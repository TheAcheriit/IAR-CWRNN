{
 "cells": [
  {
   "cell_type": "code",
   "execution_count": 1,
   "metadata": {
    "collapsed": false
   },
   "outputs": [
    {
     "name": "stdout",
     "output_type": "stream",
     "text": [
      "Populating the interactive namespace from numpy and matplotlib\n"
     ]
    }
   ],
   "source": [
    "%pylab inline\n",
    "import os, csv"
   ]
  },
  {
   "cell_type": "code",
   "execution_count": 2,
   "metadata": {
    "collapsed": false
   },
   "outputs": [
    {
     "data": {
      "text/plain": [
       "[<matplotlib.lines.Line2D at 0x7f5f1e1e7208>]"
      ]
     },
     "execution_count": 2,
     "metadata": {},
     "output_type": "execute_result"
    },
    {
     "data": {
      "image/png": "[encoded data removed]",
      "text/plain": [
       "<matplotlib.figure.Figure at 0x7f5f2ae9f278>"
      ]
     },
     "metadata": {},
     "output_type": "display_data"
    }
   ],
   "source": [
    "data_to_charge = 0 # 0 is for the music samples, 1 is for TIMIT\n",
    "if data_to_charge not in (0, 1):\n",
    "    raise ValueError(\"data_to_charge must be 0 (music) or 1 (speech)\")\n",
    "elif data_to_charge == 0:\n",
    "    data_folder = \"../sample/\"\n",
    "else:\n",
    "    data_folder = \"../timit\"\n",
    "\n",
    "files_names = (os.listdir(data_folder))\n",
    "folder_size = len(files_names)\n",
    "sample_lenght = 0\n",
    "\n",
    "cr = csv.reader(open(data_folder + files_names[0], \"r\"))\n",
    "for row in cr:\n",
    "    sample_lenght += 1\n",
    "\n",
    "data = np.zeros((folder_size, sample_lenght, 2))\n",
    "    \n",
    "for file_number, file in enumerate(files_names):\n",
    "    cr = csv.reader(open(data_folder + file, \"r\"))\n",
    "    for row_number, row in enumerate(cr):\n",
    "        data[file_number][row_number] = [float(row[0]), float(row[1])]\n",
    "        \n",
    "plot(data[4][:,0])"
   ]
  },
  {
   "cell_type": "code",
   "execution_count": 3,
   "metadata": {
    "collapsed": true
   },
   "outputs": [],
   "source": [
    "class RNNNumpy:\n",
    "    \n",
    "    def __init__(self, word_dim, hidden_dim=100, bptt_truncate=4):\n",
    "        # Assign instance variables\n",
    "        self.word_dim = word_dim\n",
    "        self.hidden_dim = hidden_dim\n",
    "        self.bptt_truncate = bptt_truncate\n",
    "        # Randomly initialize the network parameters\n",
    "        self.V = np.random.normal(0, 0.1, (word_dim, hidden_dim))\n",
    "        self.W = np.random.normal(0, 0.1, (hidden_dim, hidden_dim))"
   ]
  },
  {
   "cell_type": "code",
   "execution_count": 64,
   "metadata": {
    "collapsed": true
   },
   "outputs": [],
   "source": [
    "def forward_propagation(self, size, initialState):\n",
    "    # The total number of time steps\n",
    "    T = size\n",
    "    # During forward propagation we save all hidden states in s because need them later.\n",
    "    s = np.zeros((T , self.hidden_dim))\n",
    "    s[-1] = np.array([initialState] * self.hidden_dim)\n",
    "    # The outputs at each time step. Again, we save them for later.\n",
    "    o = np.zeros((T, self.word_dim))\n",
    "    # For each time step...\n",
    "    for t in np.arange(T):\n",
    "        s[t] = np.tanh(self.W.dot(s[t-1]))\n",
    "        o[t] = self.V.dot(s[t])\n",
    "    return [o, s]\n",
    "\n",
    "RNNNumpy.forward_propagation = forward_propagation"
   ]
  },
  {
   "cell_type": "code",
   "execution_count": 65,
   "metadata": {
    "collapsed": true
   },
   "outputs": [],
   "source": [
    "def predict(self, x):\n",
    "    # Perform forward propagation and return index of the highest score\n",
    "    o, s = self.forward_propagation(len(x), x[1])\n",
    "    return o\n",
    "\n",
    "RNNNumpy.predict = predict"
   ]
  },
  {
   "cell_type": "code",
   "execution_count": 66,
   "metadata": {
    "collapsed": true
   },
   "outputs": [],
   "source": [
    "def softmax(x):\n",
    "    xt = np.exp(x - np.max(x))\n",
    "    return xt / np.sum(xt)"
   ]
  },
  {
   "cell_type": "code",
   "execution_count": 67,
   "metadata": {
    "collapsed": false
   },
   "outputs": [
    {
     "name": "stdout",
     "output_type": "stream",
     "text": [
      "[[ -9.46015884e-03]\n",
      " [ -2.85140563e-01]\n",
      " [ -3.97118189e-04]\n",
      " [  1.79500463e-01]\n",
      " [  1.25809023e-02]\n",
      " [  1.50121314e-01]\n",
      " [  9.78215495e-02]\n",
      " [ -2.46907734e-02]\n",
      " [  1.55562333e-03]\n",
      " [  6.70933821e-02]\n",
      " [ -1.59138908e-02]\n",
      " [  2.49815286e-01]\n",
      " [ -3.28918706e-02]\n",
      " [  1.26299591e-02]\n",
      " [  3.28001647e-02]\n",
      " [ -1.73241479e-01]\n",
      " [  1.67161032e-01]\n",
      " [  2.74374304e-02]\n",
      " [ -2.65974268e-02]\n",
      " [  2.45776565e-01]\n",
      " [ -1.03894770e-01]\n",
      " [  5.74403883e-03]\n",
      " [  7.33612096e-02]\n",
      " [ -1.80143647e-01]\n",
      " [  1.98584872e-01]\n",
      " [  6.56195405e-02]\n",
      " [ -5.67769794e-02]\n",
      " [  2.32502748e-01]\n",
      " [ -2.82277194e-01]\n",
      " [  4.09949501e-02]\n",
      " [  9.51101700e-02]\n",
      " [ -1.23268770e-01]\n",
      " [  2.37787049e-01]\n",
      " [  1.11786445e-02]\n",
      " [ -1.49055517e-01]\n",
      " [  1.99848887e-01]\n",
      " [ -2.68680247e-01]\n",
      " [  9.96254040e-02]\n",
      " [  1.10392144e-01]\n",
      " [ -1.40429983e-01]\n",
      " [  2.28047209e-01]\n",
      " [ -5.02201802e-02]\n",
      " [ -1.69459668e-01]\n",
      " [  1.96019405e-01]\n",
      " [ -2.27212443e-01]\n",
      " [  1.23959416e-01]\n",
      " [  1.16979590e-01]\n",
      " [ -1.83771178e-01]\n",
      " [  1.55602774e-01]\n",
      " [ -5.45844431e-02]\n",
      " [ -1.49063921e-01]\n",
      " [  2.65189106e-01]\n",
      " [ -1.82958323e-01]\n",
      " [  1.00481818e-01]\n",
      " [  8.50566631e-02]\n",
      " [ -2.25269521e-01]\n",
      " [  1.43627847e-01]\n",
      " [ -6.93913661e-03]\n",
      " [ -1.35155735e-01]\n",
      " [  3.08236397e-01]\n",
      " [ -1.72405564e-01]\n",
      " [  5.16035806e-02]\n",
      " [  8.13480976e-02]\n",
      " [ -2.39141994e-01]\n",
      " [  1.64953204e-01]\n",
      " [  4.60405487e-02]\n",
      " [ -1.40797859e-01]\n",
      " [  2.98417798e-01]\n",
      " [ -2.10803902e-01]\n",
      " [  9.70862816e-03]\n",
      " [  1.15055233e-01]\n",
      " [ -2.15579076e-01]\n",
      " [  1.82843999e-01]\n",
      " [  6.68489769e-02]\n",
      " [ -1.82168658e-01]\n",
      " [  2.68361424e-01]\n",
      " [ -2.23687685e-01]\n",
      " [  9.00014276e-05]\n",
      " [  1.60685458e-01]\n",
      " [ -2.03828226e-01]\n",
      " [  1.66528484e-01]\n",
      " [  6.64864321e-02]\n",
      " [ -2.32256560e-01]\n",
      " [  2.55177682e-01]\n",
      " [ -1.91733379e-01]\n",
      " [  1.46625322e-03]\n",
      " [  1.92627367e-01]\n",
      " [ -2.23022562e-01]\n",
      " [  1.21371871e-01]\n",
      " [  7.23516626e-02]\n",
      " [ -2.54858148e-01]\n",
      " [  2.80241198e-01]\n",
      " [ -1.46212259e-01]\n",
      " [ -1.48905313e-02]\n",
      " [  1.98560648e-01]\n",
      " [ -2.50931922e-01]\n",
      " [  8.51960631e-02]\n",
      " [  9.56767617e-02]\n",
      " [ -2.50674488e-01]\n",
      " [  3.11236170e-01]\n",
      " [ -1.18256116e-01]\n",
      " [ -4.47378424e-02]\n",
      " [  1.96139312e-01]\n",
      " [ -2.62262272e-01]\n",
      " [  7.25283370e-02]\n",
      " [  1.26257819e-01]\n",
      " [ -2.42317398e-01]\n",
      " [  3.11992319e-01]\n",
      " [ -1.11310624e-01]\n",
      " [ -7.27639020e-02]\n",
      " [  2.05590432e-01]\n",
      " [ -2.48048515e-01]\n",
      " [  6.77046515e-02]\n",
      " [  1.49023215e-01]\n",
      " [ -2.51282024e-01]\n",
      " [  2.86239274e-01]\n",
      " [ -1.04497161e-01]\n",
      " [ -8.94569068e-02]\n",
      " [  2.27137868e-01]\n",
      " [ -2.23170566e-01]\n",
      " [  5.11434397e-02]\n",
      " [  1.59345827e-01]\n",
      " [ -2.76248245e-01]\n",
      " [  2.57532955e-01]\n",
      " [ -8.37307635e-02]\n",
      " [ -9.92071192e-02]\n",
      " [  2.48144766e-01]\n",
      " [ -2.06038044e-01]\n",
      " [  2.15359387e-02]\n",
      " [  1.64769910e-01]\n",
      " [ -2.97434903e-01]\n",
      " [  2.41487217e-01]\n",
      " [ -5.49794983e-02]\n",
      " [ -1.11872688e-01]\n",
      " [  2.57874477e-01]\n",
      " [ -1.99134719e-01]\n",
      " [ -9.16483119e-03]\n",
      " [  1.74381137e-01]\n",
      " [ -3.02921857e-01]\n",
      " [  2.34480666e-01]\n",
      " [ -2.99616428e-02]\n",
      " [ -1.31368547e-01]\n",
      " [  2.57308967e-01]\n",
      " [ -1.91858287e-01]\n",
      " [ -3.20595725e-02]\n",
      " [  1.91349748e-01]\n",
      " [ -2.98820160e-01]\n",
      " [  2.22774748e-01]\n",
      " [ -1.25598076e-02]\n",
      " [ -1.54061303e-01]\n",
      " [  2.55800892e-01]\n",
      " [ -1.75039391e-01]\n",
      " [ -4.87442275e-02]\n",
      " [  2.11017714e-01]\n",
      " [ -2.97141974e-01]\n",
      " [  2.00360572e-01]\n",
      " [  2.05456551e-03]\n",
      " [ -1.73942056e-01]\n",
      " [  2.59200514e-01]\n",
      " [ -1.50126905e-01]\n",
      " [ -6.56427952e-02]\n",
      " [  2.26476401e-01]\n",
      " [ -3.01996241e-01]\n",
      " [  1.73110575e-01]\n",
      " [  1.94816644e-02]\n",
      " [ -1.88620759e-01]\n",
      " [  2.64515186e-01]\n",
      " [ -1.25068556e-01]\n",
      " [ -8.55408913e-02]\n",
      " [  2.36308745e-01]\n",
      " [ -3.07055620e-01]\n",
      " [  1.49026943e-01]\n",
      " [  3.99141986e-02]\n",
      " [ -2.00706241e-01]\n",
      " [  2.65237126e-01]\n",
      " [ -1.04425326e-01]\n",
      " [ -1.06361824e-01]\n",
      " [  2.44768662e-01]\n",
      " [ -3.04526064e-01]\n",
      " [  1.29831833e-01]\n",
      " [  6.00799317e-02]\n",
      " [ -2.13992953e-01]\n",
      " [  2.58539805e-01]\n",
      " [ -8.58397789e-02]\n",
      " [ -1.24870778e-01]\n",
      " [  2.56255846e-01]\n",
      " [ -2.93606435e-01]\n",
      " [  1.11562325e-01]\n",
      " [  7.77468352e-02]\n",
      " [ -2.29148766e-01]\n",
      " [  2.47034775e-01]\n",
      " [ -6.49951616e-02]\n",
      " [ -1.39953846e-01]\n",
      " [  2.70633613e-01]\n",
      " [ -2.79083803e-01]\n",
      " [  9.08355859e-02]\n",
      " [  9.35542293e-02]\n",
      " [ -2.43503479e-01]\n",
      " [  2.34818045e-01]\n",
      " [ -4.10875131e-02]\n",
      " [ -1.53067204e-01]\n",
      " [  2.83947534e-01]\n",
      " [ -2.64964652e-01]\n",
      " [  6.84047704e-02]\n",
      " [  1.09528154e-01]\n",
      " [ -2.54273732e-01]\n",
      " [  2.23100815e-01]\n",
      " [ -1.67043153e-02]\n",
      " [ -1.66305792e-01]\n",
      " [  2.93153308e-01]\n",
      " [ -2.51106938e-01]\n",
      " [  4.69166181e-02]\n",
      " [  1.26746551e-01]\n",
      " [ -2.61192049e-01]\n",
      " [  2.09987608e-01]\n",
      " [  5.80561802e-03]\n",
      " [ -1.80592054e-01]\n",
      " [  2.98791361e-01]\n",
      " [ -2.34971602e-01]\n",
      " [  2.75217233e-02]\n",
      " [  1.44636386e-01]\n",
      " [ -2.66034359e-01]\n",
      " [  1.93486199e-01]\n",
      " [  2.64079739e-02]\n",
      " [ -1.95254154e-01]\n",
      " [  3.03148502e-01]\n",
      " [ -2.15315917e-01]\n",
      " [  9.28441655e-03]\n",
      " [  1.61939090e-01]\n",
      " [ -2.70150201e-01]\n",
      " [  1.73812452e-01]\n",
      " [  4.63449985e-02]\n",
      " [ -2.09080470e-01]\n",
      " [  3.07101463e-01]\n",
      " [ -1.93469035e-01]\n",
      " [ -9.08575858e-03]\n",
      " [  1.77992963e-01]\n",
      " [ -2.73040128e-01]\n",
      " [  1.52832800e-01]\n",
      " [  6.62337754e-02]\n",
      " [ -2.21718588e-01]\n",
      " [  3.09266699e-01]\n",
      " [ -1.71561646e-01]\n",
      " [ -2.77928699e-02]\n",
      " [  1.93117965e-01]\n",
      " [ -2.73210961e-01]\n",
      " [  1.31947339e-01]\n",
      " [  8.55858843e-02]\n",
      " [ -2.33906169e-01]\n",
      " [  3.07773930e-01]\n",
      " [ -1.50479164e-01]\n",
      " [ -4.61833116e-02]\n",
      " [  2.07939854e-01]\n",
      " [ -2.69821161e-01]\n",
      " [  1.11053566e-01]\n",
      " [  1.03622137e-01]\n",
      " [ -2.46480567e-01]\n",
      " [  3.02142735e-01]\n",
      " [ -1.29697527e-01]\n",
      " [ -6.37447171e-02]\n",
      " [  2.22512451e-01]\n",
      " [ -2.63274252e-01]\n",
      " [  8.93974588e-02]\n",
      " [  1.20079181e-01]\n",
      " [ -2.59374604e-01]\n",
      " [  2.93276619e-01]\n",
      " [ -1.08577136e-01]\n",
      " [ -8.05993395e-02]\n",
      " [  2.36156940e-01]\n",
      " [ -2.54469297e-01]\n",
      " [  6.68398252e-02]\n",
      " [  1.35313072e-01]\n",
      " [ -2.71660365e-01]\n",
      " [  2.82173518e-01]\n",
      " [ -8.72798465e-02]\n",
      " [ -9.72234494e-02]\n",
      " [  2.48069409e-01]\n",
      " [ -2.43821952e-01]\n",
      " [  4.40423140e-02]\n",
      " [  1.49883751e-01]\n",
      " [ -2.82446442e-01]\n",
      " [  2.69055508e-01]\n",
      " [ -6.64496461e-02]\n",
      " [ -1.13933765e-01]\n",
      " [  2.57942563e-01]\n",
      " [ -2.31099076e-01]\n",
      " [  2.17244502e-02]\n",
      " [  1.64143601e-01]\n",
      " [ -2.91509920e-01]\n",
      " [  2.53631195e-01]\n",
      " [ -4.64447934e-02]\n",
      " [ -1.30687958e-01]\n",
      " [  2.65960595e-01]\n",
      " [ -2.16005896e-01]\n",
      " [  1.05583909e-04]\n",
      " [  1.78131724e-01]\n",
      " [ -2.99047081e-01]\n",
      " [  2.35864610e-01]\n",
      " [ -2.71116580e-02]\n",
      " [ -1.47254078e-01]\n",
      " [  2.72301725e-01]\n",
      " [ -1.98723122e-01]\n",
      " [ -2.09418919e-02]\n",
      " [  1.91757273e-01]\n",
      " [ -3.05027380e-01]\n",
      " [  2.16304417e-01]\n",
      " [ -8.14991403e-03]\n",
      " [ -1.63469136e-01]\n",
      " [  2.76778474e-01]\n",
      " [ -1.79850476e-01]\n",
      " [ -4.14536172e-02]\n",
      " [  2.05040965e-01]\n",
      " [ -3.08950601e-01]\n",
      " [  1.95747334e-01]\n",
      " [  1.05216092e-02]\n",
      " [ -1.79326068e-01]\n",
      " [  2.78958179e-01]\n",
      " [ -1.59955790e-01]\n",
      " [ -6.12177114e-02]\n",
      " [  2.18161677e-01]]\n",
      "(320, 1)\n"
     ]
    },
    {
     "data": {
      "text/plain": [
       "[<matplotlib.lines.Line2D at 0x7f5f1d952ac8>]"
      ]
     },
     "execution_count": 67,
     "metadata": {},
     "output_type": "execute_result"
    },
    {
     "data": {
      "image/png": "[encoded data removed]",
      "text/plain": [
       "<matplotlib.figure.Figure at 0x7f5f1d99f8d0>"
      ]
     },
     "metadata": {},
     "output_type": "display_data"
    }
   ],
   "source": [
    "model = RNNNumpy(1)\n",
    "X_train = data[4][:,0]\n",
    "o = model.predict(X_train)\n",
    "print(o)\n",
    "print(o.shape)\n",
    "plot(o)"
   ]
  },
  {
   "cell_type": "code",
   "execution_count": 68,
   "metadata": {
    "collapsed": false
   },
   "outputs": [],
   "source": [
    "def calculate_loss(self, x):\n",
    "    o, s = self.forward_propagation(len(x), x[1])\n",
    "    o=o.reshape(x.shape)\n",
    "    return ((x-o)*(x-o)).sum()\n",
    "model.calculate_loss=calculate_loss"
   ]
  },
  {
   "cell_type": "code",
   "execution_count": 69,
   "metadata": {
    "collapsed": false
   },
   "outputs": [
    {
     "data": {
      "text/plain": [
       "28.851044448368157"
      ]
     },
     "execution_count": 69,
     "metadata": {},
     "output_type": "execute_result"
    }
   ],
   "source": [
    "loss = model.calculate_loss(model, X_train)\n",
    "loss"
   ]
  },
  {
   "cell_type": "code",
   "execution_count": 70,
   "metadata": {
    "collapsed": false
   },
   "outputs": [],
   "source": [
    "def bptt(self, x):\n",
    "    T = len(x)\n",
    "    # Perform forward propagation\n",
    "    o, s = self.forward_propagation(len(x), x[1])\n",
    "    # We accumulate the gradients in these variables\n",
    "    dLdV = np.zeros(self.V.shape)\n",
    "    dLdW = np.zeros(self.W.shape)\n",
    "    delta_o = o\n",
    "    #delta_o[np.arange(len(x)), x] -= 1.\n",
    "    # For each output backwards...\n",
    "    for t in np.arange(T)[::-1]:\n",
    "        dLdV += np.outer(delta_o[t], s[t].T)\n",
    "        # Initial delta calculation\n",
    "        delta_t = self.V.T.dot(delta_o[t]) * (1 - (s[t] ** 2))\n",
    "        # Backpropagation through time (for at most self.bptt_truncate steps)\n",
    "        for bptt_step in np.arange(max(0, t-self.bptt_truncate), t+1)[::-1]:\n",
    "            # print \"Backpropagation step t=%d bptt step=%d \" % (t, bptt_step)\n",
    "            dLdW += np.outer(delta_t, s[bptt_step-1])              \n",
    "            # Update delta for next step\n",
    "            delta_t = self.W.T.dot(delta_t) * (1 - s[bptt_step-1] ** 2)\n",
    "    return [dLdV, dLdW]\n",
    "\n",
    "RNNNumpy.bptt = bptt"
   ]
  },
  {
   "cell_type": "code",
   "execution_count": 71,
   "metadata": {
    "collapsed": false
   },
   "outputs": [],
   "source": [
    "# Performs one step of SGD.\n",
    "def numpy_sdg_step(self, x, learning_rate):\n",
    "    # Calculate the gradients\n",
    "    dLdV, dLdW = self.bptt(x)\n",
    "    # Change parameters according to gradients and learning rate\n",
    "    self.V -= learning_rate * dLdV\n",
    "    self.W -= learning_rate * dLdW\n",
    "\n",
    "RNNNumpy.sgd_step = numpy_sdg_step"
   ]
  },
  {
   "cell_type": "code",
   "execution_count": 72,
   "metadata": {
    "collapsed": true
   },
   "outputs": [],
   "source": [
    "# Outer SGD Loop\n",
    "# - model: The RNN model instance\n",
    "# - x: séquence to generate\n",
    "# - learning_rate: Initial learning rate for SGD\n",
    "# - nepoch: Number of times to iterate through the complete dataset\n",
    "def train_with_sgd(model, x, learning_rate=0.0003, nepoch=100):\n",
    "    # We keep track of the losses so we can plot them later\n",
    "    losses = []\n",
    "    for epoch in range(nepoch):\n",
    "        # One SGD step\n",
    "        loss = model.calculate_loss(model,x)\n",
    "        losses.append(loss)\n",
    "        model.sgd_step(x, learning_rate)\n",
    "        \n",
    "    return losses\n",
    " "
   ]
  },
  {
   "cell_type": "code",
   "execution_count": 73,
   "metadata": {
    "collapsed": false
   },
   "outputs": [],
   "source": [
    "losses = train_with_sgd(model, X_train, nepoch=100)"
   ]
  },
  {
   "cell_type": "code",
   "execution_count": 74,
   "metadata": {
    "collapsed": false
   },
   "outputs": [
    {
     "data": {
      "text/plain": [
       "[<matplotlib.lines.Line2D at 0x7f5f1d9226a0>]"
      ]
     },
     "execution_count": 74,
     "metadata": {},
     "output_type": "execute_result"
    },
    {
     "data": {
      "image/png": "[encoded data removed]",
      "text/plain": [
       "<matplotlib.figure.Figure at 0x7f5f1d922f98>"
      ]
     },
     "metadata": {},
     "output_type": "display_data"
    }
   ],
   "source": [
    "o = model.predict(X_train)\n",
    "plot(o)\n",
    "plot(X_train)"
   ]
  },
  {
   "cell_type": "code",
   "execution_count": 75,
   "metadata": {
    "collapsed": false
   },
   "outputs": [
    {
     "data": {
      "text/plain": [
       "[28.851044448368157,\n",
       " 18.629826203130747,\n",
       " 18.480104375659625,\n",
       " 18.417156191341636,\n",
       " 18.383651594467622,\n",
       " 18.36297265158862,\n",
       " 18.347714536360897,\n",
       " 18.335354227180758,\n",
       " 18.325029993865414,\n",
       " 18.31634385230662,\n",
       " 18.30901129888208,\n",
       " 18.302784556077512,\n",
       " 18.297445537775459,\n",
       " 18.292808888915705,\n",
       " 18.288722237602443,\n",
       " 18.285063254794647,\n",
       " 18.281735202652175,\n",
       " 18.278662265969277,\n",
       " 18.2757853257337,\n",
       " 18.273058406930136,\n",
       " 18.270445811870804,\n",
       " 18.267919858036276,\n",
       " 18.265459113747578,\n",
       " 18.263047029176963,\n",
       " 18.260670875217571,\n",
       " 18.258320919741433,\n",
       " 18.25598978619923,\n",
       " 18.253671952266419,\n",
       " 18.251363356297194,\n",
       " 18.249061087084257,\n",
       " 18.246763138290067,\n",
       " 18.244468213342618,\n",
       " 18.242175569917624,\n",
       " 18.239884895639165,\n",
       " 18.237596208525879,\n",
       " 18.235309777148114,\n",
       " 18.233026056556906,\n",
       " 18.23074563688667,\n",
       " 18.228469202180232,\n",
       " 18.226197497486172,\n",
       " 18.223931302670515,\n",
       " 18.22167141169011,\n",
       " 18.219418616317217,\n",
       " 18.217173693495567,\n",
       " 18.214937395661522,\n",
       " 18.212710443484742,\n",
       " 18.210493520581856,\n",
       " 18.208287269835907,\n",
       " 18.206092291018305,\n",
       " 18.203909139463224,\n",
       " 18.2017383255873,\n",
       " 18.199580315082883,\n",
       " 18.197435529642714,\n",
       " 18.195304348097601,\n",
       " 18.193187107869715,\n",
       " 18.191084106660412,\n",
       " 18.188995604305536,\n",
       " 18.186921824743486,\n",
       " 18.184862958050783,\n",
       " 18.182819162508093,\n",
       " 18.180790566667628,\n",
       " 18.178777271397369,\n",
       " 18.176779351883205,\n",
       " 18.174796859575142,\n",
       " 18.172829824064841,\n",
       " 18.170878254887725,\n",
       " 18.168942143242322,\n",
       " 18.167021463624252,\n",
       " 18.165116175371566,\n",
       " 18.163226224121452,\n",
       " 18.161351543177947,\n",
       " 18.159492054792505,\n",
       " 18.157647671358784,\n",
       " 18.155818296524281,\n",
       " 18.154003826221899,\n",
       " 18.15220414962462,\n",
       " 18.150419150026515,\n",
       " 18.148648705653809,\n",
       " 18.146892690409874,\n",
       " 18.145150974557467,\n",
       " 18.143423425342238,\n",
       " 18.141709907561047,\n",
       " 18.140010284078226,\n",
       " 18.138324416294083,\n",
       " 18.13665216456814,\n",
       " 18.134993388600723,\n",
       " 18.133347947775871,\n",
       " 18.131715701468522,\n",
       " 18.130096509318445,\n",
       " 18.128490231474046,\n",
       " 18.126896728807868,\n",
       " 18.125315863106643,\n",
       " 18.123747497237595,\n",
       " 18.122191495293468,\n",
       " 18.120647722717653,\n",
       " 18.119116046411587,\n",
       " 18.117596334825802,\n",
       " 18.116088458036142,\n",
       " 18.114592287806783,\n",
       " 18.113107697640935]"
      ]
     },
     "execution_count": 75,
     "metadata": {},
     "output_type": "execute_result"
    },
    {
     "data": {
      "image/png": "[encoded data removed]",
      "text/plain": [
       "<matplotlib.figure.Figure at 0x7f5f1d8d34a8>"
      ]
     },
     "metadata": {},
     "output_type": "display_data"
    }
   ],
   "source": [
    "plot(losses)\n",
    "losses"
   ]
  },
  {
   "cell_type": "code",
   "execution_count": 22,
   "metadata": {
    "collapsed": false
   },
   "outputs": [
    {
     "data": {
      "text/plain": [
       "17.704175793299104"
      ]
     },
     "execution_count": 22,
     "metadata": {},
     "output_type": "execute_result"
    }
   ],
   "source": []
  },
  {
   "cell_type": "code",
   "execution_count": null,
   "metadata": {
    "collapsed": true
   },
   "outputs": [],
   "source": []
  }
 ],
 "metadata": {
  "kernelspec": {
   "display_name": "Python 3",
   "language": "python",
   "name": "python3"
  },
  "language_info": {
   "codemirror_mode": {
    "name": "ipython",
    "version": 3
   },
   "file_extension": ".py",
   "mimetype": "text/x-python",
   "name": "python",
   "nbconvert_exporter": "python",
   "pygments_lexer": "ipython3",
   "version": "3.4.3"
  }
 },
 "nbformat": 4,
 "nbformat_minor": 0
}
