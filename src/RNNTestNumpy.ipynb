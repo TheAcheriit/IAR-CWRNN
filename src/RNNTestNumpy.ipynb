{
 "cells": [
  {
   "cell_type": "code",
   "execution_count": 1,
   "metadata": {
    "collapsed": false
   },
   "outputs": [
    {
     "name": "stdout",
     "output_type": "stream",
     "text": [
      "Populating the interactive namespace from numpy and matplotlib\n"
     ]
    }
   ],
   "source": [
    "%pylab inline\n",
    "import os, csv"
   ]
  },
  {
   "cell_type": "code",
   "execution_count": 2,
   "metadata": {
    "collapsed": false
   },
   "outputs": [
    {
     "data": {
      "text/plain": [
       "[<matplotlib.lines.Line2D at 0x7fa119e19160>]"
      ]
     },
     "execution_count": 2,
     "metadata": {},
     "output_type": "execute_result"
    },
    {
     "data": {
      "image/png": "[encoded data removed]",
      "text/plain": [
       "<matplotlib.figure.Figure at 0x7fa119e2cc50>"
      ]
     },
     "metadata": {},
     "output_type": "display_data"
    }
   ],
   "source": [
    "data_to_charge = 0 # 0 is for the music samples, 1 is for TIMIT\n",
    "if data_to_charge not in (0, 1):\n",
    "    raise ValueError(\"data_to_charge must be 0 (music) or 1 (speech)\")\n",
    "elif data_to_charge == 0:\n",
    "    data_folder = \"../sample/\"\n",
    "else:\n",
    "    data_folder = \"../timit\"\n",
    "\n",
    "files_names = (os.listdir(data_folder))\n",
    "folder_size = len(files_names)\n",
    "sample_lenght = 0\n",
    "\n",
    "cr = csv.reader(open(data_folder + files_names[0], \"r\"))\n",
    "for row in cr:\n",
    "    sample_lenght += 1\n",
    "\n",
    "data = np.zeros((folder_size, sample_lenght, 2))\n",
    "    \n",
    "for file_number, file in enumerate(files_names):\n",
    "    cr = csv.reader(open(data_folder + file, \"r\"))\n",
    "    for row_number, row in enumerate(cr):\n",
    "        data[file_number][row_number] = [float(row[0]), float(row[1])]\n",
    "        \n",
    "plot(data[4][:,0])"
   ]
  },
  {
   "cell_type": "code",
   "execution_count": 31,
   "metadata": {
    "collapsed": true
   },
   "outputs": [],
   "source": [
    "class RNNNumpy:\n",
    "    \n",
    "    def __init__(self, word_dim, hidden_dim=100, bptt_truncate=4):\n",
    "        # Assign instance variables\n",
    "        self.word_dim = word_dim\n",
    "        self.hidden_dim = hidden_dim\n",
    "        self.bptt_truncate = bptt_truncate\n",
    "        # Randomly initialize the network parameters\n",
    "        self.V = np.random.normal(0, 0.1, (word_dim, hidden_dim))\n",
    "        self.W = np.random.normal(0, 0.1, (hidden_dim + 1, hidden_dim  + 1))\n",
    "        self.W[-1] = np.zeros(hidden_dim+1)\n",
    "        self.W[-1,-1] = 1"
   ]
  },
  {
   "cell_type": "code",
   "execution_count": 40,
   "metadata": {
    "collapsed": true
   },
   "outputs": [],
   "source": [
    "def forward_propagation(self, size, initialState):\n",
    "    # The total number of time steps\n",
    "    T = size\n",
    "    # During forward propagation we save all hidden states in s because need them later.\n",
    "    s = np.zeros((T , self.hidden_dim + 1))\n",
    "    s[-1,-1] = 1\n",
    "    #s[-1] = np.ones( self.hidden_dim)\n",
    "    # The outputs at each time step. Again, we save them for later.\n",
    "    o = np.zeros((T, self.word_dim))\n",
    "    # For each time step...\n",
    "    for t in np.arange(T):\n",
    "        s[t] = np.tanh(self.W.dot(s[t-1]))\n",
    "        o[t] = self.V.dot(s[t,:-1])\n",
    "    return [o, s]\n",
    "\n",
    "RNNNumpy.forward_propagation = forward_propagation"
   ]
  },
  {
   "cell_type": "code",
   "execution_count": 41,
   "metadata": {
    "collapsed": true
   },
   "outputs": [],
   "source": [
    "def predict(self, x):\n",
    "    # Perform forward propagation and return index of the highest score\n",
    "    o, s = self.forward_propagation(len(x), x[1])\n",
    "    return o\n",
    "\n",
    "RNNNumpy.predict = predict"
   ]
  },
  {
   "cell_type": "code",
   "execution_count": 42,
   "metadata": {
    "collapsed": true
   },
   "outputs": [],
   "source": [
    "def softmax(x):\n",
    "    xt = np.exp(x - np.max(x))\n",
    "    return xt / np.sum(xt)"
   ]
  },
  {
   "cell_type": "code",
   "execution_count": 43,
   "metadata": {
    "collapsed": false
   },
   "outputs": [
    {
     "name": "stdout",
     "output_type": "stream",
     "text": [
      "[[  7.83096568e-03]\n",
      " [ -1.13126618e-01]\n",
      " [ -7.88319306e-02]\n",
      " [ -1.15001886e-01]\n",
      " [  4.68748335e-02]\n",
      " [ -1.90926700e-02]\n",
      " [  1.28373210e-01]\n",
      " [ -6.50909379e-02]\n",
      " [ -1.46362974e-01]\n",
      " [ -2.77582476e-01]\n",
      " [ -3.11908856e-01]\n",
      " [ -8.22869299e-02]\n",
      " [ -1.20063627e-01]\n",
      " [ -2.16999239e-02]\n",
      " [ -1.15273939e-01]\n",
      " [ -1.16782425e-01]\n",
      " [ -2.26324831e-01]\n",
      " [ -9.04074671e-02]\n",
      " [ -1.23295707e-01]\n",
      " [ -6.00838391e-02]\n",
      " [ -1.13977051e-01]\n",
      " [ -1.47743174e-01]\n",
      " [ -1.56138232e-01]\n",
      " [ -1.55882227e-01]\n",
      " [ -3.33180333e-02]\n",
      " [ -8.84295882e-02]\n",
      " [ -1.95343773e-02]\n",
      " [ -9.78249988e-02]\n",
      " [ -9.82084670e-02]\n",
      " [ -1.25164614e-01]\n",
      " [ -6.04441591e-02]\n",
      " [ -3.59882585e-02]\n",
      " [ -8.50291396e-03]\n",
      " [ -1.05852279e-02]\n",
      " [ -4.09679448e-02]\n",
      " [ -2.94655251e-02]\n",
      " [ -5.64026986e-02]\n",
      " [  1.37444406e-02]\n",
      " [ -1.77913253e-02]\n",
      " [  4.00945724e-02]\n",
      " [ -2.40233611e-02]\n",
      " [  1.04749006e-02]\n",
      " [ -8.87228887e-03]\n",
      " [  1.18582447e-02]\n",
      " [  3.69244200e-02]\n",
      " [  3.25478936e-02]\n",
      " [  5.07723673e-02]\n",
      " [ -8.55446766e-03]\n",
      " [  4.16962008e-02]\n",
      " [ -7.95605040e-03]\n",
      " [  5.52595727e-02]\n",
      " [  2.09838817e-02]\n",
      " [  6.63210337e-02]\n",
      " [  2.19515653e-02]\n",
      " [  2.06151746e-02]\n",
      " [  2.62371700e-02]\n",
      " [  1.33820327e-02]\n",
      " [  4.81457913e-02]\n",
      " [  1.84157512e-02]\n",
      " [  5.57571834e-02]\n",
      " [  3.00744145e-03]\n",
      " [  2.69527948e-02]\n",
      " [  5.96678022e-04]\n",
      " [  3.62813067e-02]\n",
      " [  1.31932411e-02]\n",
      " [  3.10950743e-02]\n",
      " [  1.47714125e-02]\n",
      " [  9.05185764e-03]\n",
      " [ -2.23432939e-03]\n",
      " [ -2.88420991e-04]\n",
      " [  2.37438282e-02]\n",
      " [ -6.48184818e-03]\n",
      " [  2.48064986e-02]\n",
      " [ -1.76105435e-02]\n",
      " [  1.66945643e-02]\n",
      " [ -3.50735777e-02]\n",
      " [  1.69292702e-02]\n",
      " [ -9.79023169e-03]\n",
      " [  3.35907153e-03]\n",
      " [ -4.96221161e-03]\n",
      " [ -1.77960019e-02]\n",
      " [  6.15783424e-03]\n",
      " [ -4.16612216e-02]\n",
      " [  2.10533179e-02]\n",
      " [ -2.92149610e-02]\n",
      " [  1.50973462e-02]\n",
      " [ -3.25712576e-02]\n",
      " [  4.56034778e-04]\n",
      " [ -1.39873454e-02]\n",
      " [ -2.12180586e-02]\n",
      " [  5.37978589e-03]\n",
      " [ -1.61922213e-02]\n",
      " [  7.36442445e-03]\n",
      " [ -2.93665084e-02]\n",
      " [  7.25123031e-03]\n",
      " [ -1.66747052e-02]\n",
      " [ -3.56794523e-03]\n",
      " [ -8.00683492e-03]\n",
      " [  6.73462544e-03]\n",
      " [ -1.03566483e-02]\n",
      " [ -3.49913503e-03]\n",
      " [ -6.27808906e-03]\n",
      " [  6.85777025e-03]\n",
      " [ -1.06221483e-02]\n",
      " [  2.72229657e-03]\n",
      " [  9.58934649e-03]\n",
      " [ -1.09203526e-02]\n",
      " [  1.28739681e-02]\n",
      " [ -1.69752091e-02]\n",
      " [  3.24220117e-02]\n",
      " [ -2.87744080e-02]\n",
      " [  2.65567643e-02]\n",
      " [ -7.97698626e-03]\n",
      " [  9.00715492e-03]\n",
      " [  3.39438888e-03]\n",
      " [ -7.83456759e-03]\n",
      " [  3.32341567e-02]\n",
      " [ -3.23425406e-02]\n",
      " [  3.47880123e-02]\n",
      " [ -2.00513021e-02]\n",
      " [  2.54689836e-02]\n",
      " [ -1.34363510e-02]\n",
      " [  8.52705154e-03]\n",
      " [  1.57691825e-02]\n",
      " [ -1.98683650e-02]\n",
      " [  2.05249680e-02]\n",
      " [ -1.23314168e-02]\n",
      " [  1.99756916e-02]\n",
      " [ -1.39438823e-02]\n",
      " [  8.26658461e-03]\n",
      " [  6.52996766e-03]\n",
      " [ -1.39299438e-02]\n",
      " [  4.63045857e-03]\n",
      " [  8.96214083e-04]\n",
      " [  2.28544932e-03]\n",
      " [  6.18080899e-04]\n",
      " [ -1.03411366e-02]\n",
      " [  1.71243476e-02]\n",
      " [ -2.72285341e-02]\n",
      " [  7.26207943e-03]\n",
      " [ -7.57298819e-04]\n",
      " [ -4.59036660e-03]\n",
      " [  8.76064190e-03]\n",
      " [ -2.67221460e-02]\n",
      " [  3.09887019e-02]\n",
      " [ -4.65655112e-02]\n",
      " [  2.24150681e-02]\n",
      " [ -1.64436725e-02]\n",
      " [  6.29916038e-03]\n",
      " [ -5.75533456e-04]\n",
      " [ -2.47531579e-02]\n",
      " [  2.93995733e-02]\n",
      " [ -5.11759358e-02]\n",
      " [  2.91917165e-02]\n",
      " [ -2.63265199e-02]\n",
      " [  1.83267083e-02]\n",
      " [ -1.41137845e-02]\n",
      " [ -1.34268815e-02]\n",
      " [  1.66783367e-02]\n",
      " [ -4.12451458e-02]\n",
      " [  2.13396253e-02]\n",
      " [ -1.98284511e-02]\n",
      " [  1.59849035e-02]\n",
      " [ -1.44022686e-02]\n",
      " [ -1.14507503e-02]\n",
      " [  1.10362642e-02]\n",
      " [ -3.41919382e-02]\n",
      " [  1.23400186e-02]\n",
      " [ -7.51928365e-03]\n",
      " [  3.93258669e-03]\n",
      " [ -2.79530384e-03]\n",
      " [ -2.21137110e-02]\n",
      " [  1.90159425e-02]\n",
      " [ -4.02899280e-02]\n",
      " [  1.50488989e-02]\n",
      " [ -5.11708145e-03]\n",
      " [ -2.27921547e-03]\n",
      " [  4.78226797e-03]\n",
      " [ -3.20124041e-02]\n",
      " [  2.89980685e-02]\n",
      " [ -5.14767011e-02]\n",
      " [  2.57978659e-02]\n",
      " [ -1.36242048e-02]\n",
      " [  3.01891677e-03]\n",
      " [ -3.10904283e-04]\n",
      " [ -3.05917207e-02]\n",
      " [  2.85838829e-02]\n",
      " [ -5.46073849e-02]\n",
      " [  3.11058866e-02]\n",
      " [ -2.02190576e-02]\n",
      " [  9.63784615e-03]\n",
      " [ -9.70241227e-03]\n",
      " [ -2.31753469e-02]\n",
      " [  2.04654659e-02]\n",
      " [ -4.90037153e-02]\n",
      " [  2.64108717e-02]\n",
      " [ -1.65752612e-02]\n",
      " [  7.24607594e-03]\n",
      " [ -1.14917733e-02]\n",
      " [ -2.11312938e-02]\n",
      " [  1.60860988e-02]\n",
      " [ -4.46323869e-02]\n",
      " [  1.97976760e-02]\n",
      " [ -8.03790342e-03]\n",
      " [ -1.75758014e-03]\n",
      " [ -5.45675554e-03]\n",
      " [ -2.67103326e-02]\n",
      " [  2.02155858e-02]\n",
      " [ -4.79731329e-02]\n",
      " [  1.99937401e-02]\n",
      " [ -4.51678792e-03]\n",
      " [ -7.33390174e-03]\n",
      " [ -8.64205845e-04]\n",
      " [ -3.21512163e-02]\n",
      " [  2.66730328e-02]\n",
      " [ -5.49404361e-02]\n",
      " [  2.57733154e-02]\n",
      " [ -7.72965334e-03]\n",
      " [ -5.23644274e-03]\n",
      " [ -3.36903167e-03]\n",
      " [ -3.10642586e-02]\n",
      " [  2.79174213e-02]\n",
      " [ -5.77257238e-02]\n",
      " [  2.90871292e-02]\n",
      " [ -1.05406783e-02]\n",
      " [ -1.16677210e-03]\n",
      " [ -8.81546375e-03]\n",
      " [ -2.60746482e-02]\n",
      " [  2.45095931e-02]\n",
      " [ -5.51068704e-02]\n",
      " [  2.62011933e-02]\n",
      " [ -7.48281630e-03]\n",
      " [ -1.79086895e-03]\n",
      " [ -1.03570556e-02]\n",
      " [ -2.38115027e-02]\n",
      " [  2.26651074e-02]\n",
      " [ -5.25612963e-02]\n",
      " [  2.11972171e-02]\n",
      " [ -1.09715720e-03]\n",
      " [ -6.49764833e-03]\n",
      " [ -7.27820648e-03]\n",
      " [ -2.61872140e-02]\n",
      " [  2.56684958e-02]\n",
      " [ -5.43955769e-02]\n",
      " [  1.94860843e-02]\n",
      " [  2.62944536e-03]\n",
      " [ -9.64521341e-03]\n",
      " [ -4.54645155e-03]\n",
      " [ -2.91658058e-02]\n",
      " [  3.05259438e-02]\n",
      " [ -5.88287678e-02]\n",
      " [  2.10704053e-02]\n",
      " [  2.03203009e-03]\n",
      " [ -8.33532225e-03]\n",
      " [ -5.65682458e-03]\n",
      " [ -2.88415169e-02]\n",
      " [  3.27599937e-02]\n",
      " [ -6.12314134e-02]\n",
      " [  2.15754265e-02]\n",
      " [  9.08167346e-04]\n",
      " [ -5.37780262e-03]\n",
      " [ -8.69590465e-03]\n",
      " [ -2.61700928e-02]\n",
      " [  3.21119109e-02]\n",
      " [ -6.02432492e-02]\n",
      " [  1.84820842e-02]\n",
      " [  2.79656333e-03]\n",
      " [ -4.70322757e-03]\n",
      " [ -9.78643739e-03]\n",
      " [ -2.48136254e-02]\n",
      " [  3.19474766e-02]\n",
      " [ -5.86561512e-02]\n",
      " [  1.37860307e-02]\n",
      " [  6.75519968e-03]\n",
      " [ -6.43359635e-03]\n",
      " [ -8.14548048e-03]\n",
      " [ -2.62142861e-02]\n",
      " [  3.44795271e-02]\n",
      " [ -5.91769634e-02]\n",
      " [  1.07187774e-02]\n",
      " [  9.36530501e-03]\n",
      " [ -7.59173980e-03]\n",
      " [ -6.34806646e-03]\n",
      " [ -2.83631224e-02]\n",
      " [  3.83448208e-02]\n",
      " [ -6.11751291e-02]\n",
      " [  9.68961060e-03]\n",
      " [  9.27375821e-03]\n",
      " [ -6.35572845e-03]\n",
      " [ -6.53010351e-03]\n",
      " [ -2.89347891e-02]\n",
      " [  4.09216352e-02]\n",
      " [ -6.20649616e-02]\n",
      " [  8.40412557e-03]\n",
      " [  8.37254221e-03]\n",
      " [ -4.04733811e-03]\n",
      " [ -7.91157033e-03]\n",
      " [ -2.81700171e-02]\n",
      " [  4.17104810e-02]\n",
      " [ -6.07926140e-02]\n",
      " [  5.23120905e-03]\n",
      " [  8.83642668e-03]\n",
      " [ -2.90255587e-03]\n",
      " [ -8.36115240e-03]\n",
      " [ -2.80543920e-02]\n",
      " [  4.24529949e-02]\n",
      " [ -5.87465948e-02]\n",
      " [  1.05397368e-03]\n",
      " [  1.04452924e-02]\n",
      " [ -3.23631842e-03]\n",
      " [ -7.24042859e-03]\n",
      " [ -2.95806175e-02]\n",
      " [  4.45601251e-02]\n",
      " [ -5.75658774e-02]\n",
      " [ -2.26461376e-03]\n",
      " [  1.13383661e-02]\n",
      " [ -3.52722440e-03]\n",
      " [ -5.84316346e-03]\n",
      " [ -3.17727559e-02]\n",
      " [  4.74757919e-02]]\n",
      "(320, 1)\n"
     ]
    },
    {
     "data": {
      "text/plain": [
       "[<matplotlib.lines.Line2D at 0x7fa119ad1cf8>]"
      ]
     },
     "execution_count": 43,
     "metadata": {},
     "output_type": "execute_result"
    },
    {
     "data": {
      "image/png": "[encoded data removed]",
      "text/plain": [
       "<matplotlib.figure.Figure at 0x7fa119b09668>"
      ]
     },
     "metadata": {},
     "output_type": "display_data"
    }
   ],
   "source": [
    "model = RNNNumpy(1)\n",
    "X_train = data[4][:,0]\n",
    "o = model.predict(X_train)\n",
    "print(o)\n",
    "print(o.shape)\n",
    "plot(o)"
   ]
  },
  {
   "cell_type": "code",
   "execution_count": 44,
   "metadata": {
    "collapsed": false
   },
   "outputs": [],
   "source": [
    "def calculate_loss(self, x):\n",
    "    o, s = self.forward_propagation(len(x), x[1])\n",
    "    o=o.reshape(x.shape)\n",
    "    return ((x-o)*(x-o)).sum()\n",
    "model.calculate_loss=calculate_loss"
   ]
  },
  {
   "cell_type": "code",
   "execution_count": 45,
   "metadata": {
    "collapsed": false
   },
   "outputs": [
    {
     "data": {
      "text/plain": [
       "11.351738167403251"
      ]
     },
     "execution_count": 45,
     "metadata": {},
     "output_type": "execute_result"
    }
   ],
   "source": [
    "loss = model.calculate_loss(model, X_train)\n",
    "loss"
   ]
  },
  {
   "cell_type": "code",
   "execution_count": 50,
   "metadata": {
    "collapsed": false
   },
   "outputs": [],
   "source": [
    "def bptt(self, x):\n",
    "    T = len(x)\n",
    "    # Perform forward propagation\n",
    "    o, s = self.forward_propagation(len(x), x[1])\n",
    "    # We accumulate the gradients in these variables\n",
    "    dLdV = np.zeros(self.V.shape)\n",
    "    dLdW = np.zeros(self.W.shape)\n",
    "    delta_o = o\n",
    "    #delta_o[np.arange(len(x)), x] -= 1.\n",
    "    # For each output backwards...\n",
    "    for t in np.arange(T)[::-1]:\n",
    "        dLdV += np.outer(delta_o[t], s[t].T)\n",
    "        # Initial delta calculation\n",
    "        delta_t = self.V.T.dot(delta_o[t]) * (1 - (s[t] ** 2))\n",
    "        # Backpropagation through time (for at most self.bptt_truncate steps)\n",
    "        for bptt_step in np.arange(max(0, t-self.bptt_truncate), t+1)[::-1]:\n",
    "            # print \"Backpropagation step t=%d bptt step=%d \" % (t, bptt_step)\n",
    "            dLdW += np.outer(delta_t, s[bptt_step-1])              \n",
    "            # Update delta for next step\n",
    "            delta_t = self.W.T.dot(delta_t) * (1 - s[bptt_step-1] ** 2)\n",
    "    return [dLdV, dLdW]\n",
    "\n",
    "RNNNumpy.bptt = bptt"
   ]
  },
  {
   "cell_type": "code",
   "execution_count": 51,
   "metadata": {
    "collapsed": false
   },
   "outputs": [],
   "source": [
    "# Performs one step of SGD.\n",
    "def numpy_sdg_step(self, x, learning_rate):\n",
    "    # Calculate the gradients\n",
    "    dLdV, dLdW = self.bptt(x)\n",
    "    # Change parameters according to gradients and learning rate\n",
    "    self.V -= learning_rate * dLdV\n",
    "    self.W -= learning_rate * dLdW\n",
    "\n",
    "RNNNumpy.sgd_step = numpy_sdg_step"
   ]
  },
  {
   "cell_type": "code",
   "execution_count": 52,
   "metadata": {
    "collapsed": true
   },
   "outputs": [],
   "source": [
    "# Outer SGD Loop\n",
    "# - model: The RNN model instance\n",
    "# - x: séquence to generate\n",
    "# - learning_rate: Initial learning rate for SGD\n",
    "# - nepoch: Number of times to iterate through the complete dataset\n",
    "def train_with_sgd(model, x, learning_rate=0.0003, nepoch=100):\n",
    "    # We keep track of the losses so we can plot them later\n",
    "    losses = []\n",
    "    for epoch in range(nepoch):\n",
    "        # One SGD step\n",
    "        loss = model.calculate_loss(model,x)\n",
    "        losses.append(loss)\n",
    "        model.sgd_step(x, learning_rate)\n",
    "        \n",
    "    return losses\n",
    " "
   ]
  },
  {
   "cell_type": "code",
   "execution_count": 53,
   "metadata": {
    "collapsed": false
   },
   "outputs": [
    {
     "ename": "ValueError",
     "evalue": "operands could not be broadcast together with shapes (1,100) (1,101) (1,100) ",
     "output_type": "error",
     "traceback": [
      "\u001b[1;31m---------------------------------------------------------------------------\u001b[0m",
      "\u001b[1;31mValueError\u001b[0m                                Traceback (most recent call last)",
      "\u001b[1;32m<ipython-input-53-b004310831a6>\u001b[0m in \u001b[0;36m<module>\u001b[1;34m()\u001b[0m\n\u001b[1;32m----> 1\u001b[1;33m \u001b[0mlosses\u001b[0m \u001b[1;33m=\u001b[0m \u001b[0mtrain_with_sgd\u001b[0m\u001b[1;33m(\u001b[0m\u001b[0mmodel\u001b[0m\u001b[1;33m,\u001b[0m \u001b[0mX_train\u001b[0m\u001b[1;33m,\u001b[0m \u001b[0mnepoch\u001b[0m\u001b[1;33m=\u001b[0m\u001b[1;36m100\u001b[0m\u001b[1;33m)\u001b[0m\u001b[1;33m\u001b[0m\u001b[0m\n\u001b[0m",
      "\u001b[1;32m<ipython-input-52-fbc0858b7243>\u001b[0m in \u001b[0;36mtrain_with_sgd\u001b[1;34m(model, x, learning_rate, nepoch)\u001b[0m\n\u001b[0;32m     11\u001b[0m         \u001b[0mloss\u001b[0m \u001b[1;33m=\u001b[0m \u001b[0mmodel\u001b[0m\u001b[1;33m.\u001b[0m\u001b[0mcalculate_loss\u001b[0m\u001b[1;33m(\u001b[0m\u001b[0mmodel\u001b[0m\u001b[1;33m,\u001b[0m\u001b[0mx\u001b[0m\u001b[1;33m)\u001b[0m\u001b[1;33m\u001b[0m\u001b[0m\n\u001b[0;32m     12\u001b[0m         \u001b[0mlosses\u001b[0m\u001b[1;33m.\u001b[0m\u001b[0mappend\u001b[0m\u001b[1;33m(\u001b[0m\u001b[0mloss\u001b[0m\u001b[1;33m)\u001b[0m\u001b[1;33m\u001b[0m\u001b[0m\n\u001b[1;32m---> 13\u001b[1;33m         \u001b[0mmodel\u001b[0m\u001b[1;33m.\u001b[0m\u001b[0msgd_step\u001b[0m\u001b[1;33m(\u001b[0m\u001b[0mx\u001b[0m\u001b[1;33m,\u001b[0m \u001b[0mlearning_rate\u001b[0m\u001b[1;33m)\u001b[0m\u001b[1;33m\u001b[0m\u001b[0m\n\u001b[0m\u001b[0;32m     14\u001b[0m \u001b[1;33m\u001b[0m\u001b[0m\n\u001b[0;32m     15\u001b[0m     \u001b[1;32mreturn\u001b[0m \u001b[0mlosses\u001b[0m\u001b[1;33m\u001b[0m\u001b[0m\n",
      "\u001b[1;32m<ipython-input-51-27195d2e0129>\u001b[0m in \u001b[0;36mnumpy_sdg_step\u001b[1;34m(self, x, learning_rate)\u001b[0m\n\u001b[0;32m      2\u001b[0m \u001b[1;32mdef\u001b[0m \u001b[0mnumpy_sdg_step\u001b[0m\u001b[1;33m(\u001b[0m\u001b[0mself\u001b[0m\u001b[1;33m,\u001b[0m \u001b[0mx\u001b[0m\u001b[1;33m,\u001b[0m \u001b[0mlearning_rate\u001b[0m\u001b[1;33m)\u001b[0m\u001b[1;33m:\u001b[0m\u001b[1;33m\u001b[0m\u001b[0m\n\u001b[0;32m      3\u001b[0m     \u001b[1;31m# Calculate the gradients\u001b[0m\u001b[1;33m\u001b[0m\u001b[1;33m\u001b[0m\u001b[0m\n\u001b[1;32m----> 4\u001b[1;33m     \u001b[0mdLdV\u001b[0m\u001b[1;33m,\u001b[0m \u001b[0mdLdW\u001b[0m \u001b[1;33m=\u001b[0m \u001b[0mself\u001b[0m\u001b[1;33m.\u001b[0m\u001b[0mbptt\u001b[0m\u001b[1;33m(\u001b[0m\u001b[0mx\u001b[0m\u001b[1;33m)\u001b[0m\u001b[1;33m\u001b[0m\u001b[0m\n\u001b[0m\u001b[0;32m      5\u001b[0m     \u001b[1;31m# Change parameters according to gradients and learning rate\u001b[0m\u001b[1;33m\u001b[0m\u001b[1;33m\u001b[0m\u001b[0m\n\u001b[0;32m      6\u001b[0m     \u001b[0mself\u001b[0m\u001b[1;33m.\u001b[0m\u001b[0mV\u001b[0m \u001b[1;33m-=\u001b[0m \u001b[0mlearning_rate\u001b[0m \u001b[1;33m*\u001b[0m \u001b[0mdLdV\u001b[0m\u001b[1;33m\u001b[0m\u001b[0m\n",
      "\u001b[1;32m<ipython-input-50-164c98a2248f>\u001b[0m in \u001b[0;36mbptt\u001b[1;34m(self, x)\u001b[0m\n\u001b[0;32m     10\u001b[0m     \u001b[1;31m# For each output backwards...\u001b[0m\u001b[1;33m\u001b[0m\u001b[1;33m\u001b[0m\u001b[0m\n\u001b[0;32m     11\u001b[0m     \u001b[1;32mfor\u001b[0m \u001b[0mt\u001b[0m \u001b[1;32min\u001b[0m \u001b[0mnp\u001b[0m\u001b[1;33m.\u001b[0m\u001b[0marange\u001b[0m\u001b[1;33m(\u001b[0m\u001b[0mT\u001b[0m\u001b[1;33m)\u001b[0m\u001b[1;33m[\u001b[0m\u001b[1;33m:\u001b[0m\u001b[1;33m:\u001b[0m\u001b[1;33m-\u001b[0m\u001b[1;36m1\u001b[0m\u001b[1;33m]\u001b[0m\u001b[1;33m:\u001b[0m\u001b[1;33m\u001b[0m\u001b[0m\n\u001b[1;32m---> 12\u001b[1;33m         \u001b[0mdLdV\u001b[0m \u001b[1;33m+=\u001b[0m \u001b[0mnp\u001b[0m\u001b[1;33m.\u001b[0m\u001b[0mouter\u001b[0m\u001b[1;33m(\u001b[0m\u001b[0mdelta_o\u001b[0m\u001b[1;33m[\u001b[0m\u001b[0mt\u001b[0m\u001b[1;33m]\u001b[0m\u001b[1;33m,\u001b[0m \u001b[0ms\u001b[0m\u001b[1;33m[\u001b[0m\u001b[0mt\u001b[0m\u001b[1;33m]\u001b[0m\u001b[1;33m.\u001b[0m\u001b[0mT\u001b[0m\u001b[1;33m)\u001b[0m\u001b[1;33m\u001b[0m\u001b[0m\n\u001b[0m\u001b[0;32m     13\u001b[0m         \u001b[1;31m# Initial delta calculation\u001b[0m\u001b[1;33m\u001b[0m\u001b[1;33m\u001b[0m\u001b[0m\n\u001b[0;32m     14\u001b[0m         \u001b[0mdelta_t\u001b[0m \u001b[1;33m=\u001b[0m \u001b[0mself\u001b[0m\u001b[1;33m.\u001b[0m\u001b[0mV\u001b[0m\u001b[1;33m.\u001b[0m\u001b[0mT\u001b[0m\u001b[1;33m.\u001b[0m\u001b[0mdot\u001b[0m\u001b[1;33m(\u001b[0m\u001b[0mdelta_o\u001b[0m\u001b[1;33m[\u001b[0m\u001b[0mt\u001b[0m\u001b[1;33m]\u001b[0m\u001b[1;33m)\u001b[0m \u001b[1;33m*\u001b[0m \u001b[1;33m(\u001b[0m\u001b[1;36m1\u001b[0m \u001b[1;33m-\u001b[0m \u001b[1;33m(\u001b[0m\u001b[0ms\u001b[0m\u001b[1;33m[\u001b[0m\u001b[0mt\u001b[0m\u001b[1;33m]\u001b[0m \u001b[1;33m**\u001b[0m \u001b[1;36m2\u001b[0m\u001b[1;33m)\u001b[0m\u001b[1;33m)\u001b[0m\u001b[1;33m\u001b[0m\u001b[0m\n",
      "\u001b[1;31mValueError\u001b[0m: operands could not be broadcast together with shapes (1,100) (1,101) (1,100) "
     ]
    }
   ],
   "source": [
    "losses = train_with_sgd(model, X_train, nepoch=100)"
   ]
  },
  {
   "cell_type": "code",
   "execution_count": 14,
   "metadata": {
    "collapsed": false
   },
   "outputs": [
    {
     "data": {
      "text/plain": [
       "[<matplotlib.lines.Line2D at 0x7fa119dbd438>]"
      ]
     },
     "execution_count": 14,
     "metadata": {},
     "output_type": "execute_result"
    },
    {
     "data": {
      "image/png": "[encoded data removed]",
      "text/plain": [
       "<matplotlib.figure.Figure at 0x7fa119dbda20>"
      ]
     },
     "metadata": {},
     "output_type": "display_data"
    }
   ],
   "source": [
    "o = model.predict(X_train)\n",
    "plot(o)\n",
    "plot(X_train)"
   ]
  },
  {
   "cell_type": "code",
   "execution_count": 15,
   "metadata": {
    "collapsed": false
   },
   "outputs": [
    {
     "data": {
      "text/plain": [
       "[18.439412247544162,\n",
       " 13.122749024440335,\n",
       " 12.255428606931229,\n",
       " 11.851313885797392,\n",
       " 11.615524168205861,\n",
       " 11.462263646699558,\n",
       " 11.356341334883631,\n",
       " 11.28030131673566,\n",
       " 11.224340671760856,\n",
       " 11.182449528689338,\n",
       " 11.150698520600502,\n",
       " 11.126393235820554,\n",
       " 11.107620652122966,\n",
       " 11.092988605588626,\n",
       " 11.081466950479914,\n",
       " 11.072285403205758,\n",
       " 11.064864642438749,\n",
       " 11.058767915625669,\n",
       " 11.053665932852159,\n",
       " 11.049310792231221,\n",
       " 11.045516311899798,\n",
       " 11.042143065376713,\n",
       " 11.039086955359181,\n",
       " 11.036270489921193,\n",
       " 11.033636137864836,\n",
       " 11.031141286583219,\n",
       " 11.028754432759085,\n",
       " 11.026452317682736,\n",
       " 11.024217782637749,\n",
       " 11.022038170141345,\n",
       " 11.019904136695459,\n",
       " 11.017808774149554,\n",
       " 11.015746961397987,\n",
       " 11.013714887251306,\n",
       " 11.011709700035784,\n",
       " 11.009729250709171,\n",
       " 11.007771904792476,\n",
       " 11.005836404823523,\n",
       " 11.003921769830534,\n",
       " 11.002027221890888,\n",
       " 11.000152132483343,\n",
       " 10.998295983292746,\n",
       " 10.99645833756199,\n",
       " 10.994638819139151,\n",
       " 10.9928370971391,\n",
       " 10.991052874702511,\n",
       " 10.989285880746628,\n",
       " 10.98753586390197,\n",
       " 10.985802588047713,\n",
       " 10.984085829017509,\n",
       " 10.982385372163257,\n",
       " 10.980701010548724,\n",
       " 10.979032543606198,\n",
       " 10.977379776134162,\n",
       " 10.975742517546454,\n",
       " 10.974120581307336,\n",
       " 10.972513784504109,\n",
       " 10.970921947521754,\n",
       " 10.969344893793316,\n",
       " 10.967782449606622,\n",
       " 10.966234443952988,\n",
       " 10.964700708407177,\n",
       " 10.963181077030708,\n",
       " 10.961675386292594,\n",
       " 10.960183475003102,\n",
       " 10.95870518425723,\n",
       " 10.957240357385437,\n",
       " 10.955788839909841,\n",
       " 10.95435047950442,\n",
       " 10.952925125958267,\n",
       " 10.951512631141131,\n",
       " 10.95011284897063,\n",
       " 10.948725635380775,\n",
       " 10.947350848291471,\n",
       " 10.945988347578774,\n",
       " 10.944637995045767,\n",
       " 10.943299654393901,\n",
       " 10.941973191194766,\n",
       " 10.940658472862218,\n",
       " 10.939355368624827,\n",
       " 10.938063749498649,\n",
       " 10.936783488260264,\n",
       " 10.935514459420144,\n",
       " 10.934256539196291,\n",
       " 10.933009605488184,\n",
       " 10.93177353785104,\n",
       " 10.930548217470367,\n",
       " 10.929333527136857,\n",
       " 10.928129351221592,\n",
       " 10.926935575651594,\n",
       " 10.925752087885705,\n",
       " 10.924578776890815,\n",
       " 10.923415533118419,\n",
       " 10.922262248481561,\n",
       " 10.921118816332083,\n",
       " 10.91998513143826,\n",
       " 10.918861089962778,\n",
       " 10.917746589441055,\n",
       " 10.916641528759923,\n",
       " 10.915545808136653]"
      ]
     },
     "execution_count": 15,
     "metadata": {},
     "output_type": "execute_result"
    },
    {
     "data": {
      "image/png": "[encoded data removed]",
      "text/plain": [
       "<matplotlib.figure.Figure at 0x7fa119cc2780>"
      ]
     },
     "metadata": {},
     "output_type": "display_data"
    }
   ],
   "source": [
    "plot(losses)\n",
    "losses"
   ]
  },
  {
   "cell_type": "code",
   "execution_count": 22,
   "metadata": {
    "collapsed": false
   },
   "outputs": [
    {
     "data": {
      "text/plain": [
       "17.704175793299104"
      ]
     },
     "execution_count": 22,
     "metadata": {},
     "output_type": "execute_result"
    }
   ],
   "source": []
  },
  {
   "cell_type": "code",
   "execution_count": 25,
   "metadata": {
    "collapsed": false
   },
   "outputs": [
    {
     "data": {
      "text/plain": [
       "array([4, 3, 2, 1, 0])"
      ]
     },
     "execution_count": 25,
     "metadata": {},
     "output_type": "execute_result"
    }
   ],
   "source": []
  },
  {
   "cell_type": "code",
   "execution_count": null,
   "metadata": {
    "collapsed": true
   },
   "outputs": [],
   "source": []
  }
 ],
 "metadata": {
  "kernelspec": {
   "display_name": "Python 3",
   "language": "python",
   "name": "python3"
  },
  "language_info": {
   "codemirror_mode": {
    "name": "ipython",
    "version": 3
   },
   "file_extension": ".py",
   "mimetype": "text/x-python",
   "name": "python",
   "nbconvert_exporter": "python",
   "pygments_lexer": "ipython3",
   "version": "3.5.1"
  }
 },
 "nbformat": 4,
 "nbformat_minor": 0
}
