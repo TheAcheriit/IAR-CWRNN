{
 "cells": [
  {
   "cell_type": "code",
   "execution_count": 1,
   "metadata": {
    "collapsed": false
   },
   "outputs": [
    {
     "name": "stdout",
     "output_type": "stream",
     "text": [
      "Populating the interactive namespace from numpy and matplotlib\n"
     ]
    }
   ],
   "source": [
    "%pylab inline\n",
    "import os, csv"
   ]
  },
  {
   "cell_type": "code",
   "execution_count": 2,
   "metadata": {
    "collapsed": false
   },
   "outputs": [
    {
     "data": {
      "text/plain": [
       "[<matplotlib.lines.Line2D at 0x7fa119e19160>]"
      ]
     },
     "execution_count": 2,
     "metadata": {},
     "output_type": "execute_result"
    },
    {
     "data": {
      "image/png": "[encoded data removed]",
      "text/plain": [
       "<matplotlib.figure.Figure at 0x7fa119e2cc50>"
      ]
     },
     "metadata": {},
     "output_type": "display_data"
    }
   ],
   "source": [
    "data_to_charge = 0 # 0 is for the music samples, 1 is for TIMIT\n",
    "if data_to_charge not in (0, 1):\n",
    "    raise ValueError(\"data_to_charge must be 0 (music) or 1 (speech)\")\n",
    "elif data_to_charge == 0:\n",
    "    data_folder = \"../sample/\"\n",
    "else:\n",
    "    data_folder = \"../timit\"\n",
    "\n",
    "files_names = (os.listdir(data_folder))\n",
    "folder_size = len(files_names)\n",
    "sample_lenght = 0\n",
    "\n",
    "cr = csv.reader(open(data_folder + files_names[0], \"r\"))\n",
    "for row in cr:\n",
    "    sample_lenght += 1\n",
    "\n",
    "data = np.zeros((folder_size, sample_lenght, 2))\n",
    "    \n",
    "for file_number, file in enumerate(files_names):\n",
    "    cr = csv.reader(open(data_folder + file, \"r\"))\n",
    "    for row_number, row in enumerate(cr):\n",
    "        data[file_number][row_number] = [float(row[0]), float(row[1])]\n",
    "        \n",
    "plot(data[4][:,0])"
   ]
  },
  {
   "cell_type": "code",
   "execution_count": 17,
   "metadata": {
    "collapsed": true
   },
   "outputs": [],
   "source": [
    "class RNNNumpy:\n",
    "    \n",
    "    def __init__(self, word_dim, hidden_dim=100, bptt_truncate=4):\n",
    "        # Assign instance variables\n",
    "        self.word_dim = word_dim\n",
    "        self.hidden_dim = hidden_dim\n",
    "        self.bptt_truncate = bptt_truncate\n",
    "        # Randomly initialize the network parameters\n",
    "        self.V = np.random.normal(0, 0.1, (word_dim, hidden_dim))\n",
    "        self.W = np.random.normal(0, 0.1, (hidden_dim , hidden_dim ))\n",
    "        self.b1 = np.random.normal(0, 0.1, (hidden_dim ))\n",
    "        "
   ]
  },
  {
   "cell_type": "code",
   "execution_count": 18,
   "metadata": {
    "collapsed": true
   },
   "outputs": [],
   "source": [
    "def forward_propagation(self, size, initialState):\n",
    "    # The total number of time steps\n",
    "    T = size\n",
    "    # During forward propagation we save all hidden states in s because need them later.\n",
    "    s = np.zeros((T , self.hidden_dim))\n",
    "    #s[-1] = np.ones( self.hidden_dim)\n",
    "    # The outputs at each time step. Again, we save them for later.\n",
    "    o = np.zeros((T, self.word_dim))\n",
    "    # For each time step...\n",
    "    for t in np.arange(T):\n",
    "        s[t] = np.tanh(self.W.dot(s[t-1])+self.b1)\n",
    "        o[t] = self.V.dot(s[t])\n",
    "    return [o, s]\n",
    "\n",
    "RNNNumpy.forward_propagation = forward_propagation"
   ]
  },
  {
   "cell_type": "code",
   "execution_count": 19,
   "metadata": {
    "collapsed": true
   },
   "outputs": [],
   "source": [
    "def predict(self, x):\n",
    "    # Perform forward propagation and return index of the highest score\n",
    "    o, s = self.forward_propagation(len(x), x[1])\n",
    "    return o\n",
    "\n",
    "RNNNumpy.predict = predict"
   ]
  },
  {
   "cell_type": "code",
   "execution_count": 20,
   "metadata": {
    "collapsed": true
   },
   "outputs": [],
   "source": [
    "def softmax(x):\n",
    "    xt = np.exp(x - np.max(x))\n",
    "    return xt / np.sum(xt)"
   ]
  },
  {
   "cell_type": "code",
   "execution_count": 22,
   "metadata": {
    "collapsed": false
   },
   "outputs": [
    {
     "name": "stdout",
     "output_type": "stream",
     "text": [
      "[[ 0.15930204]\n",
      " [ 0.15861779]\n",
      " [ 0.13492535]\n",
      " [ 0.10207609]\n",
      " [ 0.05743071]\n",
      " [ 0.18147322]\n",
      " [ 0.24238388]\n",
      " [ 0.20354417]\n",
      " [ 0.27938585]\n",
      " [ 0.41234395]\n",
      " [ 0.37204439]\n",
      " [ 0.33866518]\n",
      " [ 0.35304053]\n",
      " [ 0.33497561]\n",
      " [ 0.35650146]\n",
      " [ 0.41513555]\n",
      " [ 0.45549143]\n",
      " [ 0.34206971]\n",
      " [ 0.30181983]\n",
      " [ 0.32044282]\n",
      " [ 0.25203292]\n",
      " [ 0.28052087]\n",
      " [ 0.34997168]\n",
      " [ 0.37325046]\n",
      " [ 0.30172907]\n",
      " [ 0.29696282]\n",
      " [ 0.3209988 ]\n",
      " [ 0.26374331]\n",
      " [ 0.31029734]\n",
      " [ 0.35698454]\n",
      " [ 0.34688804]\n",
      " [ 0.34139363]\n",
      " [ 0.37206599]\n",
      " [ 0.37473605]\n",
      " [ 0.31989359]\n",
      " [ 0.36247968]\n",
      " [ 0.37395579]\n",
      " [ 0.33444023]\n",
      " [ 0.35282918]\n",
      " [ 0.37507315]\n",
      " [ 0.34846393]\n",
      " [ 0.31659582]\n",
      " [ 0.3470192 ]\n",
      " [ 0.3250381 ]\n",
      " [ 0.29740535]\n",
      " [ 0.33731846]\n",
      " [ 0.34582033]\n",
      " [ 0.31850589]\n",
      " [ 0.32553142]\n",
      " [ 0.35157697]\n",
      " [ 0.31786102]\n",
      " [ 0.31586639]\n",
      " [ 0.35902723]\n",
      " [ 0.34982309]\n",
      " [ 0.3351886 ]\n",
      " [ 0.35920021]\n",
      " [ 0.36413886]\n",
      " [ 0.32693966]\n",
      " [ 0.34165706]\n",
      " [ 0.36210712]\n",
      " [ 0.33274747]\n",
      " [ 0.3351231 ]\n",
      " [ 0.35731277]\n",
      " [ 0.34178765]\n",
      " [ 0.31772486]\n",
      " [ 0.34327922]\n",
      " [ 0.3422576 ]\n",
      " [ 0.31377153]\n",
      " [ 0.33668494]\n",
      " [ 0.34966859]\n",
      " [ 0.32902788]\n",
      " [ 0.32917064]\n",
      " [ 0.35392504]\n",
      " [ 0.33809808]\n",
      " [ 0.32335221]\n",
      " [ 0.35385712]\n",
      " [ 0.34922366]\n",
      " [ 0.33096804]\n",
      " [ 0.34705954]\n",
      " [ 0.35663933]\n",
      " [ 0.33242968]\n",
      " [ 0.33311176]\n",
      " [ 0.35551695]\n",
      " [ 0.3353684 ]\n",
      " [ 0.32847952]\n",
      " [ 0.34981504]\n",
      " [ 0.34312186]\n",
      " [ 0.32472011]\n",
      " [ 0.33938288]\n",
      " [ 0.34832546]\n",
      " [ 0.32531745]\n",
      " [ 0.33456485]\n",
      " [ 0.35153613]\n",
      " [ 0.33508163]\n",
      " [ 0.33096111]\n",
      " [ 0.34978464]\n",
      " [ 0.34417148]\n",
      " [ 0.32766109]\n",
      " [ 0.34618833]\n",
      " [ 0.35001055]\n",
      " [ 0.33109423]\n",
      " [ 0.33998767]\n",
      " [ 0.35156436]\n",
      " [ 0.33589166]\n",
      " [ 0.33127658]\n",
      " [ 0.34960478]\n",
      " [ 0.34026295]\n",
      " [ 0.32822828]\n",
      " [ 0.3449874 ]\n",
      " [ 0.34519487]\n",
      " [ 0.32965037]\n",
      " [ 0.33759575]\n",
      " [ 0.34877033]\n",
      " [ 0.33313635]\n",
      " [ 0.33307363]\n",
      " [ 0.34945241]\n",
      " [ 0.33947315]\n",
      " [ 0.33160771]\n",
      " [ 0.34572092]\n",
      " [ 0.34567149]\n",
      " [ 0.33117427]\n",
      " [ 0.3407505 ]\n",
      " [ 0.3490122 ]\n",
      " [ 0.333884  ]\n",
      " [ 0.33619979]\n",
      " [ 0.34826567]\n",
      " [ 0.3387457 ]\n",
      " [ 0.33177845]\n",
      " [ 0.34520362]\n",
      " [ 0.34327298]\n",
      " [ 0.33066431]\n",
      " [ 0.34131523]\n",
      " [ 0.34613187]\n",
      " [ 0.33346963]\n",
      " [ 0.33639757]\n",
      " [ 0.34713621]\n",
      " [ 0.33782436]\n",
      " [ 0.33300402]\n",
      " [ 0.34613592]\n",
      " [ 0.34220457]\n",
      " [ 0.33267576]\n",
      " [ 0.34238484]\n",
      " [ 0.34561955]\n",
      " [ 0.33419588]\n",
      " [ 0.33779324]\n",
      " [ 0.34707153]\n",
      " [ 0.33707204]\n",
      " [ 0.33466615]\n",
      " [ 0.34556898]\n",
      " [ 0.34088179]\n",
      " [ 0.33314416]\n",
      " [ 0.34216664]\n",
      " [ 0.34430265]\n",
      " [ 0.33368404]\n",
      " [ 0.33874068]\n",
      " [ 0.34576851]\n",
      " [ 0.33651738]\n",
      " [ 0.33572457]\n",
      " [ 0.34508232]\n",
      " [ 0.34035931]\n",
      " [ 0.33393595]\n",
      " [ 0.34303929]\n",
      " [ 0.34345654]\n",
      " [ 0.33438309]\n",
      " [ 0.33988397]\n",
      " [ 0.34498712]\n",
      " [ 0.33662205]\n",
      " [ 0.33656738]\n",
      " [ 0.34494206]\n",
      " [ 0.33949896]\n",
      " [ 0.3347053 ]\n",
      " [ 0.34314051]\n",
      " [ 0.34221054]\n",
      " [ 0.33475051]\n",
      " [ 0.34012754]\n",
      " [ 0.34416699]\n",
      " [ 0.33627781]\n",
      " [ 0.33736298]\n",
      " [ 0.34453503]\n",
      " [ 0.33881401]\n",
      " [ 0.33567132]\n",
      " [ 0.34311217]\n",
      " [ 0.34163529]\n",
      " [ 0.33525204]\n",
      " [ 0.34076864]\n",
      " [ 0.3436019 ]\n",
      " [ 0.3362827 ]\n",
      " [ 0.33831363]\n",
      " [ 0.34399553]\n",
      " [ 0.3384953 ]\n",
      " [ 0.33633231]\n",
      " [ 0.3430416 ]\n",
      " [ 0.34094689]\n",
      " [ 0.33557436]\n",
      " [ 0.34116276]\n",
      " [ 0.34272201]\n",
      " [ 0.3363606 ]\n",
      " [ 0.3388314 ]\n",
      " [ 0.34346821]\n",
      " [ 0.33819912]\n",
      " [ 0.33692341]\n",
      " [ 0.34302487]\n",
      " [ 0.34031948]\n",
      " [ 0.33615865]\n",
      " [ 0.34143296]\n",
      " [ 0.34213826]\n",
      " [ 0.33660026]\n",
      " [ 0.33934331]\n",
      " [ 0.34310354]\n",
      " [ 0.33795321]\n",
      " [ 0.33758955]\n",
      " [ 0.34282208]\n",
      " [ 0.33982699]\n",
      " [ 0.33664417]\n",
      " [ 0.34151427]\n",
      " [ 0.34159997]\n",
      " [ 0.33671428]\n",
      " [ 0.33977715]\n",
      " [ 0.34259043]\n",
      " [ 0.33780205]\n",
      " [ 0.33813504]\n",
      " [ 0.34255157]\n",
      " [ 0.33949731]\n",
      " [ 0.33706904]\n",
      " [ 0.34164416]\n",
      " [ 0.34110926]\n",
      " [ 0.33696615]\n",
      " [ 0.34016028]\n",
      " [ 0.34212995]\n",
      " [ 0.33781198]\n",
      " [ 0.33857874]\n",
      " [ 0.3423366 ]\n",
      " [ 0.33919402]\n",
      " [ 0.33749224]\n",
      " [ 0.3416729 ]\n",
      " [ 0.34063528]\n",
      " [ 0.3372444 ]\n",
      " [ 0.34037465]\n",
      " [ 0.34171966]\n",
      " [ 0.33780487]\n",
      " [ 0.3389621 ]\n",
      " [ 0.34208224]\n",
      " [ 0.3389417 ]\n",
      " [ 0.33792001]\n",
      " [ 0.34161498]\n",
      " [ 0.34028849]\n",
      " [ 0.33751836]\n",
      " [ 0.34056622]\n",
      " [ 0.34136217]\n",
      " [ 0.33785146]\n",
      " [ 0.33932973]\n",
      " [ 0.34179802]\n",
      " [ 0.3387999 ]\n",
      " [ 0.33828509]\n",
      " [ 0.34153083]\n",
      " [ 0.3399919 ]\n",
      " [ 0.33776864]\n",
      " [ 0.34070726]\n",
      " [ 0.34099419]\n",
      " [ 0.33794907]\n",
      " [ 0.33960131]\n",
      " [ 0.34151873]\n",
      " [ 0.33870596]\n",
      " [ 0.33859689]\n",
      " [ 0.3414364 ]\n",
      " [ 0.33972866]\n",
      " [ 0.33804419]\n",
      " [ 0.34078608]\n",
      " [ 0.34068424]\n",
      " [ 0.33808369]\n",
      " [ 0.3398186 ]\n",
      " [ 0.3412739 ]\n",
      " [ 0.33864418]\n",
      " [ 0.33889463]\n",
      " [ 0.34130656]\n",
      " [ 0.33952362]\n",
      " [ 0.33830696]\n",
      " [ 0.3408087 ]\n",
      " [ 0.3404215 ]\n",
      " [ 0.33821196]\n",
      " [ 0.33999719]\n",
      " [ 0.34102407]\n",
      " [ 0.33862193]\n",
      " [ 0.33915219]\n",
      " [ 0.34115277]\n",
      " [ 0.33937645]\n",
      " [ 0.3385406 ]\n",
      " [ 0.34081192]\n",
      " [ 0.3401894 ]\n",
      " [ 0.33835887]\n",
      " [ 0.34013847]\n",
      " [ 0.34078857]\n",
      " [ 0.3386455 ]\n",
      " [ 0.3393642 ]\n",
      " [ 0.34100459]\n",
      " [ 0.33926313]\n",
      " [ 0.33875886]\n",
      " [ 0.34078814]\n",
      " [ 0.33998525]\n",
      " [ 0.33851704]\n",
      " [ 0.34022955]\n",
      " [ 0.34057862]\n",
      " [ 0.33868497]\n",
      " [ 0.33954141]\n",
      " [ 0.3408543 ]\n",
      " [ 0.33917856]\n",
      " [ 0.33896367]\n",
      " [ 0.34073506]\n",
      " [ 0.33982246]\n",
      " [ 0.33867138]\n",
      " [ 0.34029123]\n",
      " [ 0.34039297]\n",
      " [ 0.33874023]\n",
      " [ 0.33969421]\n",
      " [ 0.34070111]\n",
      " [ 0.33913082]\n",
      " [ 0.33914399]\n",
      " [ 0.3406675 ]\n",
      " [ 0.33969191]\n",
      " [ 0.33881705]]\n",
      "(320, 1)\n"
     ]
    },
    {
     "data": {
      "text/plain": [
       "[<matplotlib.lines.Line2D at 0x7fa119b719e8>]"
      ]
     },
     "execution_count": 22,
     "metadata": {},
     "output_type": "execute_result"
    },
    {
     "data": {
      "image/png": "[encoded data removed]",
      "text/plain": [
       "<matplotlib.figure.Figure at 0x7fa119c1dc50>"
      ]
     },
     "metadata": {},
     "output_type": "display_data"
    }
   ],
   "source": [
    "model = RNNNumpy(1)\n",
    "X_train = data[4][:,0]\n",
    "o = model.predict(X_train)\n",
    "print(o)\n",
    "print(o.shape)\n",
    "plot(o)"
   ]
  },
  {
   "cell_type": "code",
   "execution_count": 23,
   "metadata": {
    "collapsed": false
   },
   "outputs": [],
   "source": [
    "def calculate_loss(self, x):\n",
    "    o, s = self.forward_propagation(len(x), x[1])\n",
    "    o=o.reshape(x.shape)\n",
    "    return ((x-o)*(x-o)).sum()\n",
    "model.calculate_loss=calculate_loss"
   ]
  },
  {
   "cell_type": "code",
   "execution_count": 24,
   "metadata": {
    "collapsed": false
   },
   "outputs": [
    {
     "data": {
      "text/plain": [
       "43.380343749108526"
      ]
     },
     "execution_count": 24,
     "metadata": {},
     "output_type": "execute_result"
    }
   ],
   "source": [
    "loss = model.calculate_loss(model, X_train)\n",
    "loss"
   ]
  },
  {
   "cell_type": "code",
   "execution_count": 10,
   "metadata": {
    "collapsed": false
   },
   "outputs": [],
   "source": [
    "def bptt(self, x):\n",
    "    T = len(x)\n",
    "    # Perform forward propagation\n",
    "    o, s = self.forward_propagation(len(x), x[1])\n",
    "    # We accumulate the gradients in these variables\n",
    "    dLdV = np.zeros(self.V.shape)\n",
    "    dLdW = np.zeros(self.W.shape)\n",
    "    dLdb1 = np.zeros(self.b1.shape)\n",
    "    delta_o = o - x\n",
    "    #delta_o[np.arange(len(x)), x] -= 1.\n",
    "    # For each output backwards...\n",
    "    for t in np.arange(T)[::-1]:\n",
    "        dLdV += np.outer(delta_o[t], s[t].T)\n",
    "        # Initial delta calculation\n",
    "        delta_t = self.V.T.dot(delta_o[t]) * (1 - (s[t] ** 2))\n",
    "        # Backpropagation through time (for at most self.bptt_truncate steps)\n",
    "        for bptt_step in np.arange(max(0, t-self.bptt_truncate), t+1)[::-1]:\n",
    "            # print \"Backpropagation step t=%d bptt step=%d \" % (t, bptt_step)\n",
    "            dLdW += np.outer(delta_t, s[bptt_step-1])\n",
    "            # Update delta for next step\n",
    "            delta_t = self.W.T.dot(delta_t) * (1 - s[bptt_step-1] ** 2)\n",
    "    return [dLdV, dLdW]\n",
    "\n",
    "RNNNumpy.bptt = bptt"
   ]
  },
  {
   "cell_type": "code",
   "execution_count": 11,
   "metadata": {
    "collapsed": false
   },
   "outputs": [],
   "source": [
    "# Performs one step of SGD.\n",
    "def numpy_sdg_step(self, x, learning_rate):\n",
    "    # Calculate the gradients\n",
    "    dLdV, dLdW = self.bptt(x)\n",
    "    # Change parameters according to gradients and learning rate\n",
    "    self.V -= learning_rate * dLdV\n",
    "    self.W -= learning_rate * dLdW\n",
    "\n",
    "RNNNumpy.sgd_step = numpy_sdg_step"
   ]
  },
  {
   "cell_type": "code",
   "execution_count": 12,
   "metadata": {
    "collapsed": true
   },
   "outputs": [],
   "source": [
    "# Outer SGD Loop\n",
    "# - model: The RNN model instance\n",
    "# - x: séquence to generate\n",
    "# - learning_rate: Initial learning rate for SGD\n",
    "# - nepoch: Number of times to iterate through the complete dataset\n",
    "def train_with_sgd(model, x, learning_rate=0.0003, nepoch=100):\n",
    "    # We keep track of the losses so we can plot them later\n",
    "    losses = []\n",
    "    for epoch in range(nepoch):\n",
    "        # One SGD step\n",
    "        loss = model.calculate_loss(model,x)\n",
    "        losses.append(loss)\n",
    "        model.sgd_step(x, learning_rate)\n",
    "        \n",
    "    return losses\n",
    " "
   ]
  },
  {
   "cell_type": "code",
   "execution_count": 13,
   "metadata": {
    "collapsed": false
   },
   "outputs": [],
   "source": [
    "losses = train_with_sgd(model, X_train, nepoch=100)"
   ]
  },
  {
   "cell_type": "code",
   "execution_count": 14,
   "metadata": {
    "collapsed": false
   },
   "outputs": [
    {
     "data": {
      "text/plain": [
       "[<matplotlib.lines.Line2D at 0x7fa119dbd438>]"
      ]
     },
     "execution_count": 14,
     "metadata": {},
     "output_type": "execute_result"
    },
    {
     "data": {
      "image/png": "[encoded data removed]",
      "text/plain": [
       "<matplotlib.figure.Figure at 0x7fa119dbda20>"
      ]
     },
     "metadata": {},
     "output_type": "display_data"
    }
   ],
   "source": [
    "o = model.predict(X_train)\n",
    "plot(o)\n",
    "plot(X_train)"
   ]
  },
  {
   "cell_type": "code",
   "execution_count": 15,
   "metadata": {
    "collapsed": false
   },
   "outputs": [
    {
     "data": {
      "text/plain": [
       "[18.439412247544162,\n",
       " 13.122749024440335,\n",
       " 12.255428606931229,\n",
       " 11.851313885797392,\n",
       " 11.615524168205861,\n",
       " 11.462263646699558,\n",
       " 11.356341334883631,\n",
       " 11.28030131673566,\n",
       " 11.224340671760856,\n",
       " 11.182449528689338,\n",
       " 11.150698520600502,\n",
       " 11.126393235820554,\n",
       " 11.107620652122966,\n",
       " 11.092988605588626,\n",
       " 11.081466950479914,\n",
       " 11.072285403205758,\n",
       " 11.064864642438749,\n",
       " 11.058767915625669,\n",
       " 11.053665932852159,\n",
       " 11.049310792231221,\n",
       " 11.045516311899798,\n",
       " 11.042143065376713,\n",
       " 11.039086955359181,\n",
       " 11.036270489921193,\n",
       " 11.033636137864836,\n",
       " 11.031141286583219,\n",
       " 11.028754432759085,\n",
       " 11.026452317682736,\n",
       " 11.024217782637749,\n",
       " 11.022038170141345,\n",
       " 11.019904136695459,\n",
       " 11.017808774149554,\n",
       " 11.015746961397987,\n",
       " 11.013714887251306,\n",
       " 11.011709700035784,\n",
       " 11.009729250709171,\n",
       " 11.007771904792476,\n",
       " 11.005836404823523,\n",
       " 11.003921769830534,\n",
       " 11.002027221890888,\n",
       " 11.000152132483343,\n",
       " 10.998295983292746,\n",
       " 10.99645833756199,\n",
       " 10.994638819139151,\n",
       " 10.9928370971391,\n",
       " 10.991052874702511,\n",
       " 10.989285880746628,\n",
       " 10.98753586390197,\n",
       " 10.985802588047713,\n",
       " 10.984085829017509,\n",
       " 10.982385372163257,\n",
       " 10.980701010548724,\n",
       " 10.979032543606198,\n",
       " 10.977379776134162,\n",
       " 10.975742517546454,\n",
       " 10.974120581307336,\n",
       " 10.972513784504109,\n",
       " 10.970921947521754,\n",
       " 10.969344893793316,\n",
       " 10.967782449606622,\n",
       " 10.966234443952988,\n",
       " 10.964700708407177,\n",
       " 10.963181077030708,\n",
       " 10.961675386292594,\n",
       " 10.960183475003102,\n",
       " 10.95870518425723,\n",
       " 10.957240357385437,\n",
       " 10.955788839909841,\n",
       " 10.95435047950442,\n",
       " 10.952925125958267,\n",
       " 10.951512631141131,\n",
       " 10.95011284897063,\n",
       " 10.948725635380775,\n",
       " 10.947350848291471,\n",
       " 10.945988347578774,\n",
       " 10.944637995045767,\n",
       " 10.943299654393901,\n",
       " 10.941973191194766,\n",
       " 10.940658472862218,\n",
       " 10.939355368624827,\n",
       " 10.938063749498649,\n",
       " 10.936783488260264,\n",
       " 10.935514459420144,\n",
       " 10.934256539196291,\n",
       " 10.933009605488184,\n",
       " 10.93177353785104,\n",
       " 10.930548217470367,\n",
       " 10.929333527136857,\n",
       " 10.928129351221592,\n",
       " 10.926935575651594,\n",
       " 10.925752087885705,\n",
       " 10.924578776890815,\n",
       " 10.923415533118419,\n",
       " 10.922262248481561,\n",
       " 10.921118816332083,\n",
       " 10.91998513143826,\n",
       " 10.918861089962778,\n",
       " 10.917746589441055,\n",
       " 10.916641528759923,\n",
       " 10.915545808136653]"
      ]
     },
     "execution_count": 15,
     "metadata": {},
     "output_type": "execute_result"
    },
    {
     "data": {
      "image/png": "[encoded data removed]",
      "text/plain": [
       "<matplotlib.figure.Figure at 0x7fa119cc2780>"
      ]
     },
     "metadata": {},
     "output_type": "display_data"
    }
   ],
   "source": [
    "plot(losses)\n",
    "losses"
   ]
  },
  {
   "cell_type": "code",
   "execution_count": 22,
   "metadata": {
    "collapsed": false
   },
   "outputs": [
    {
     "data": {
      "text/plain": [
       "17.704175793299104"
      ]
     },
     "execution_count": 22,
     "metadata": {},
     "output_type": "execute_result"
    }
   ],
   "source": []
  },
  {
   "cell_type": "code",
   "execution_count": 25,
   "metadata": {
    "collapsed": false
   },
   "outputs": [
    {
     "data": {
      "text/plain": [
       "array([4, 3, 2, 1, 0])"
      ]
     },
     "execution_count": 25,
     "metadata": {},
     "output_type": "execute_result"
    }
   ],
   "source": []
  },
  {
   "cell_type": "code",
   "execution_count": null,
   "metadata": {
    "collapsed": true
   },
   "outputs": [],
   "source": []
  }
 ],
 "metadata": {
  "kernelspec": {
   "display_name": "Python 3",
   "language": "python",
   "name": "python3"
  },
  "language_info": {
   "codemirror_mode": {
    "name": "ipython",
    "version": 3
   },
   "file_extension": ".py",
   "mimetype": "text/x-python",
   "name": "python",
   "nbconvert_exporter": "python",
   "pygments_lexer": "ipython3",
   "version": "3.5.1"
  }
 },
 "nbformat": 4,
 "nbformat_minor": 0
}
