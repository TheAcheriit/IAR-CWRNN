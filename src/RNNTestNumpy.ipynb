{
 "cells": [
  {
   "cell_type": "code",
   "execution_count": 150,
   "metadata": {
    "collapsed": false
   },
   "outputs": [
    {
     "name": "stdout",
     "output_type": "stream",
     "text": [
      "Populating the interactive namespace from numpy and matplotlib\n"
     ]
    }
   ],
   "source": [
    "%pylab inline\n",
    "import os, csv\n",
    "import operator"
   ]
  },
  {
   "cell_type": "code",
   "execution_count": 151,
   "metadata": {
    "collapsed": false
   },
   "outputs": [
    {
     "data": {
      "text/plain": [
       "[<matplotlib.lines.Line2D at 0x7f2b49a51da0>]"
      ]
     },
     "execution_count": 151,
     "metadata": {},
     "output_type": "execute_result"
    },
    {
     "data": {
      "image/png": "[encoded data removed]",
      "text/plain": [
       "<matplotlib.figure.Figure at 0x7f2b49bb1128>"
      ]
     },
     "metadata": {},
     "output_type": "display_data"
    }
   ],
   "source": [
    "data_to_charge = 0 # 0 is for the music samples, 1 is for TIMIT\n",
    "if data_to_charge not in (0, 1):\n",
    "    raise ValueError(\"data_to_charge must be 0 (music) or 1 (speech)\")\n",
    "elif data_to_charge == 0:\n",
    "    data_folder = \"../sample/\"\n",
    "else:\n",
    "    data_folder = \"../timit\"\n",
    "\n",
    "files_names = (os.listdir(data_folder))\n",
    "folder_size = len(files_names)\n",
    "sample_lenght = 0\n",
    "\n",
    "cr = csv.reader(open(data_folder + files_names[0], \"r\"))\n",
    "for row in cr:\n",
    "    sample_lenght += 1\n",
    "\n",
    "data = np.zeros((folder_size, sample_lenght, 2))\n",
    "    \n",
    "for file_number, file in enumerate(files_names):\n",
    "    cr = csv.reader(open(data_folder + file, \"r\"))\n",
    "    for row_number, row in enumerate(cr):\n",
    "        data[file_number][row_number] = [float(row[0]), float(row[1])]\n",
    "        \n",
    "plot(data[4][:,0])"
   ]
  },
  {
   "cell_type": "code",
   "execution_count": 165,
   "metadata": {
    "collapsed": true
   },
   "outputs": [],
   "source": [
    "class RNNNumpy:\n",
    "    \n",
    "    def __init__(self, word_dim, hidden_dim=10, bptt_truncate=100):\n",
    "        # Assign instance variables\n",
    "        self.word_dim = word_dim\n",
    "        self.hidden_dim = hidden_dim\n",
    "        self.bptt_truncate = bptt_truncate\n",
    "        # Randomly initialize the network parameters\n",
    "        self.V = np.random.normal(0, 0.1, (word_dim, hidden_dim))\n",
    "        self.W = np.random.normal(0, 0.1, (hidden_dim, hidden_dim))\n",
    "        \n"
   ]
  },
  {
   "cell_type": "code",
   "execution_count": 166,
   "metadata": {
    "collapsed": true
   },
   "outputs": [],
   "source": [
    "def forward_propagation(self, size, initialState):\n",
    "    # The total number of time steps\n",
    "    T = size\n",
    "    # During forward propagation we save all hidden states in s because need them later.\n",
    "    s = np.zeros((T , self.hidden_dim))\n",
    "    s[-1] = np.ones( self.hidden_dim)*initialState\n",
    "    # The outputs at each time step. Again, we save them for later.\n",
    "    o = np.zeros((T, self.word_dim))\n",
    "    # For each time step...\n",
    "    for t in np.arange(T):\n",
    "        s[t] = np.tanh(self.W.dot(s[t-1]))\n",
    "        o[t] = self.V.dot(s[t])\n",
    "    return [o, s]\n",
    "\n",
    "RNNNumpy.forward_propagation = forward_propagation"
   ]
  },
  {
   "cell_type": "code",
   "execution_count": 167,
   "metadata": {
    "collapsed": true
   },
   "outputs": [],
   "source": [
    "def predict(self, x):\n",
    "    # Perform forward propagation and return index of the highest score\n",
    "    o, s = self.forward_propagation(len(x), x[0])\n",
    "    return o\n",
    "\n",
    "RNNNumpy.predict = predict"
   ]
  },
  {
   "cell_type": "code",
   "execution_count": 168,
   "metadata": {
    "collapsed": false
   },
   "outputs": [
    {
     "data": {
      "text/plain": [
       "[<matplotlib.lines.Line2D at 0x7f2b498d3400>]"
      ]
     },
     "execution_count": 168,
     "metadata": {},
     "output_type": "execute_result"
    },
    {
     "data": {
      "image/png": "[encoded data removed]",
      "text/plain": [
       "<matplotlib.figure.Figure at 0x7f2b499046a0>"
      ]
     },
     "metadata": {},
     "output_type": "display_data"
    }
   ],
   "source": [
    "model = RNNNumpy(1, hidden_dim=10)\n",
    "X_train = data[4][:,0]\n",
    "#X_train = np.ones(320)*0.75\n",
    "o = model.predict(X_train)\n",
    "plot(o)"
   ]
  },
  {
   "cell_type": "code",
   "execution_count": 169,
   "metadata": {
    "collapsed": false
   },
   "outputs": [],
   "source": [
    "def calculate_loss(self, x):\n",
    "    o, s = self.forward_propagation(len(x), x[1])\n",
    "    o=o.reshape(x.shape)\n",
    "    return ((x-o)*(x-o)).sum()\n",
    "RNNNumpy.calculate_loss=calculate_loss"
   ]
  },
  {
   "cell_type": "code",
   "execution_count": 170,
   "metadata": {
    "collapsed": false
   },
   "outputs": [
    {
     "data": {
      "text/plain": [
       "17.633669244358384"
      ]
     },
     "execution_count": 170,
     "metadata": {},
     "output_type": "execute_result"
    }
   ],
   "source": [
    "loss = model.calculate_loss( X_train)\n",
    "loss"
   ]
  },
  {
   "cell_type": "code",
   "execution_count": 171,
   "metadata": {
    "collapsed": false
   },
   "outputs": [],
   "source": [
    "def bptt(self, y):\n",
    "    T = len(y)\n",
    "    # Perform forward propagation\n",
    "    o, s = self.forward_propagation(len(y), y[0])\n",
    "    # We accumulate the gradients in these variables\n",
    "    dLdV = np.zeros(self.V.shape)\n",
    "    dLdW = np.zeros(self.W.shape)\n",
    "    delta_o = (y.reshape((T,1)) - o)**2\n",
    "    #delta_o[np.arange(len(x)), x] -= 1.\n",
    "    # For each output backwards...\n",
    "    for t in np.arange(T)[::-1]:\n",
    "        dLdV += delta_o[t] * s[t]\n",
    "        # Initial delta calculation\n",
    "        delta_t = self.V.T.dot(delta_o[t])\n",
    "        for bptt_step in np.arange(max(0, t-self.bptt_truncate), t+1)[::-1]:\n",
    "            # print \"Backpropagation step t=%d bptt step=%d \" % (t, bptt_step)\n",
    "            dLdW += np.outer(delta_t, s[bptt_step-1])              \n",
    "            # Update delta for next step\n",
    "            delta_t = self.W.T.dot(delta_t) * (1 - s[bptt_step-1] ** 2)\n",
    "    return [dLdV, dLdW]\n",
    "\n",
    "RNNNumpy.bptt = bptt"
   ]
  },
  {
   "cell_type": "code",
   "execution_count": 90,
   "metadata": {
    "collapsed": false
   },
   "outputs": [],
   "source": [
    "def bptt2(self, y):\n",
    "    T = len(y)\n",
    "    # Perform forward propagation\n",
    "    o, s = self.forward_propagation(len(y), y[0])\n",
    "    # We accumulate the gradients in these variables\n",
    "    dLdV = np.zeros(self.V.shape)\n",
    "    dLdW = np.zeros(self.W.shape)\n",
    "    delta_o = np.zeros(T)\n",
    "    delta  = np.zeros((T,self.hidden_dim))\n",
    "    # For each output backwards...\n",
    "    delta_o[T-1] = (y[T-1]-o[T-1])\n",
    "    delta[T-1] = (delta_o[T-1]*self.W).sum(1) *(1- np.tanh(s[T-1])**2)\n",
    "    dLdV += delta_o[T-1]*s[T-1]\n",
    "    #TODO opti ?\n",
    "    dLdW += delta[T-1]*s[T-2]\n",
    "    for t in np.arange(T-1)[::-1]:\n",
    "        #dLdV += np.outer(delta_o[t], s[t].T)\n",
    "        delta_o[t] = (y[t]-o[t])\n",
    "        delta[t] = (self.W.dot(delta[t+1]))*(1- np.tanh(s[t])**2)\n",
    "        dLdV += delta_o[t]*s[t]\n",
    "        if(t>0):\n",
    "            dLdW += delta[t]*s[t-1]\n",
    "    return [dLdV, dLdW]\n",
    "\n",
    "RNNNumpy.bptt = bptt2"
   ]
  },
  {
   "cell_type": "code",
   "execution_count": 180,
   "metadata": {
    "collapsed": false
   },
   "outputs": [],
   "source": [
    "# Performs one step of SGD.\n",
    "def numpy_sdg_step(self, x, learning_rate, momentum):\n",
    "    # Calculate the gradients\n",
    "    dLdV, dLdW = self.bptt(x)\n",
    "    # Change parameters according to gradients and learning rate\n",
    "    self.velocityV = momentum*self.velocityV + learning_rate * dLdV\n",
    "    self.velocityW = momentum*self.velocityW + learning_rate * dLdW\n",
    "    self.V += self.velocityV\n",
    "    self.W += self.velocityW\n",
    "\n",
    "RNNNumpy.sgd_step = numpy_sdg_step"
   ]
  },
  {
   "cell_type": "code",
   "execution_count": 183,
   "metadata": {
    "collapsed": true
   },
   "outputs": [],
   "source": [
    "# Outer SGD Loop\n",
    "# - model: The RNN model instance\n",
    "# - x: séquence to generate\n",
    "# - learning_rate: Initial learning rate for SGD\n",
    "# - nepoch: Number of times to iterate through the complete dataset\n",
    "def train_with_sgd(model, x, learning_rate=0.0003, momentum=0.95, nepoch=100):\n",
    "    # We keep track of the losses so we can plot them later\n",
    "    losses = []\n",
    "    for epoch in range(nepoch):\n",
    "        # One SGD step\n",
    "        model.velocityV=0\n",
    "        model.velocityW=0\n",
    "        loss = model.calculate_loss(x)\n",
    "        losses.append(loss)\n",
    "        model.sgd_step(x, learning_rate, momentum)\n",
    "        \n",
    "    return losses\n",
    " "
   ]
  },
  {
   "cell_type": "code",
   "execution_count": 184,
   "metadata": {
    "collapsed": false
   },
   "outputs": [],
   "source": [
    "losses = train_with_sgd(model, X_train, nepoch=1000, learning_rate=0.01)"
   ]
  },
  {
   "cell_type": "code",
   "execution_count": 185,
   "metadata": {
    "collapsed": false
   },
   "outputs": [
    {
     "data": {
      "text/plain": [
       "[<matplotlib.lines.Line2D at 0x7f2b49761ac8>]"
      ]
     },
     "execution_count": 185,
     "metadata": {},
     "output_type": "execute_result"
    },
    {
     "data": {
      "image/png": "[encoded data removed]",
      "text/plain": [
       "<matplotlib.figure.Figure at 0x7f2b497619e8>"
      ]
     },
     "metadata": {},
     "output_type": "display_data"
    }
   ],
   "source": [
    "\n",
    "o = model.predict(X_train)\n",
    "plot(o[:10])\n",
    "plot(X_train[:10])"
   ]
  },
  {
   "cell_type": "code",
   "execution_count": 186,
   "metadata": {
    "collapsed": false
   },
   "outputs": [
    {
     "data": {
      "text/plain": [
       "[<matplotlib.lines.Line2D at 0x7f2b496a4780>]"
      ]
     },
     "execution_count": 186,
     "metadata": {},
     "output_type": "execute_result"
    },
    {
     "data": {
      "image/png": "[encoded data removed]",
      "text/plain": [
       "<matplotlib.figure.Figure at 0x7f2b496d8a58>"
      ]
     },
     "metadata": {},
     "output_type": "display_data"
    }
   ],
   "source": [
    "plot(losses)"
   ]
  },
  {
   "cell_type": "code",
   "execution_count": 124,
   "metadata": {
    "collapsed": false
   },
   "outputs": [
    {
     "data": {
      "text/plain": [
       "array([[ nan,  nan,  nan,  nan,  nan,  nan,  nan,  nan,  nan,  nan],\n",
       "       [ nan,  nan,  nan,  nan,  nan,  nan,  nan,  nan,  nan,  nan],\n",
       "       [ nan,  nan,  nan,  nan,  nan,  nan,  nan,  nan,  nan,  nan],\n",
       "       [ nan,  nan,  nan,  nan,  nan,  nan,  nan,  nan,  nan,  nan],\n",
       "       [ nan,  nan,  nan,  nan,  nan,  nan,  nan,  nan,  nan,  nan],\n",
       "       [ nan,  nan,  nan,  nan,  nan,  nan,  nan,  nan,  nan,  nan],\n",
       "       [ nan,  nan,  nan,  nan,  nan,  nan,  nan,  nan,  nan,  nan],\n",
       "       [ nan,  nan,  nan,  nan,  nan,  nan,  nan,  nan,  nan,  nan],\n",
       "       [ nan,  nan,  nan,  nan,  nan,  nan,  nan,  nan,  nan,  nan],\n",
       "       [ nan,  nan,  nan,  nan,  nan,  nan,  nan,  nan,  nan,  nan]])"
      ]
     },
     "execution_count": 124,
     "metadata": {},
     "output_type": "execute_result"
    }
   ],
   "source": [
    "model.W"
   ]
  },
  {
   "cell_type": "code",
   "execution_count": 173,
   "metadata": {
    "collapsed": false
   },
   "outputs": [
    {
     "ename": "NameError",
     "evalue": "name 'operator' is not defined",
     "output_type": "error",
     "traceback": [
      "\u001b[1;31m---------------------------------------------------------------------------\u001b[0m",
      "\u001b[1;31mNameError\u001b[0m                                 Traceback (most recent call last)",
      "\u001b[1;32m<ipython-input-173-8ab559469a70>\u001b[0m in \u001b[0;36m<module>\u001b[1;34m()\u001b[0m\n\u001b[1;32m----> 1\u001b[1;33m \u001b[0moperator\u001b[0m\u001b[1;33m\u001b[0m\u001b[0m\n\u001b[0m",
      "\u001b[1;31mNameError\u001b[0m: name 'operator' is not defined"
     ]
    }
   ],
   "source": [
    "operator"
   ]
  },
  {
   "cell_type": "code",
   "execution_count": null,
   "metadata": {
    "collapsed": true
   },
   "outputs": [],
   "source": []
  }
 ],
 "metadata": {
  "kernelspec": {
   "display_name": "Python 3",
   "language": "python",
   "name": "python3"
  },
  "language_info": {
   "codemirror_mode": {
    "name": "ipython",
    "version": 3
   },
   "file_extension": ".py",
   "mimetype": "text/x-python",
   "name": "python",
   "nbconvert_exporter": "python",
   "pygments_lexer": "ipython3",
   "version": "3.4.3"
  }
 },
 "nbformat": 4,
 "nbformat_minor": 0
}
