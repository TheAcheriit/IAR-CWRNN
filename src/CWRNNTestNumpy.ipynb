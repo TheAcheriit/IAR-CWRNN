{
 "cells": [
  {
   "cell_type": "code",
   "execution_count": 63,
   "metadata": {
    "collapsed": false
   },
   "outputs": [
    {
     "name": "stdout",
     "output_type": "stream",
     "text": [
      "Populating the interactive namespace from numpy and matplotlib\n"
     ]
    }
   ],
   "source": [
    "%pylab inline\n",
    "import os, csv\n",
    "import operator"
   ]
  },
  {
   "cell_type": "code",
   "execution_count": 64,
   "metadata": {
    "collapsed": false
   },
   "outputs": [
    {
     "data": {
      "text/plain": [
       "[<matplotlib.lines.Line2D at 0x7fd04a2e4fd0>]"
      ]
     },
     "execution_count": 64,
     "metadata": {},
     "output_type": "execute_result"
    },
    {
     "data": {
      "image/png": "[encoded data removed]",
      "text/plain": [
       "<matplotlib.figure.Figure at 0x7fd064154e10>"
      ]
     },
     "metadata": {},
     "output_type": "display_data"
    }
   ],
   "source": [
    "data_to_charge = 0 # 0 is for the music samples, 1 is for TIMIT\n",
    "if data_to_charge not in (0, 1):\n",
    "    raise ValueError(\"data_to_charge must be 0 (music) or 1 (speech)\")\n",
    "elif data_to_charge == 0:\n",
    "    data_folder = \"../sample/\"\n",
    "else:\n",
    "    data_folder = \"../timit\"\n",
    "\n",
    "files_names = (os.listdir(data_folder))\n",
    "folder_size = len(files_names)\n",
    "sample_lenght = 0\n",
    "\n",
    "cr = csv.reader(open(data_folder + files_names[0], \"r\"))\n",
    "for row in cr:\n",
    "    sample_lenght += 1\n",
    "\n",
    "data = np.zeros((folder_size, sample_lenght, 2))\n",
    "    \n",
    "for file_number, file in enumerate(files_names):\n",
    "    cr = csv.reader(open(data_folder + file, \"r\"))\n",
    "    for row_number, row in enumerate(cr):\n",
    "        data[file_number][row_number] = [float(row[0]), float(row[1])]\n",
    "        \n",
    "plot(data[4][:,0])"
   ]
  },
  {
   "cell_type": "code",
   "execution_count": 65,
   "metadata": {
    "collapsed": false
   },
   "outputs": [],
   "source": [
    "class CWRNNNumpy:\n",
    "    \n",
    "    def __init__(self, out_dim, nb_group, nb_member, bptt_truncate=4):\n",
    "        # Assign instance variables\n",
    "        self.out_dim = out_dim\n",
    "        self.nb_group = nb_group\n",
    "        self.nb_member = nb_member\n",
    "        self.hidden_dim = nb_group*nb_member\n",
    "        self.bptt_truncate = bptt_truncate\n",
    "        # Randomly initialize the network parameters\n",
    "        self.V = np.random.normal(0, 0.1, (out_dim, self.hidden_dim))\n",
    "        self.W = np.zeros((self.hidden_dim, self.hidden_dim))\n",
    "        for i in range(nb_group) :\n",
    "            for j in range(nb_member):\n",
    "                self.W[i*nb_member+j][i:] = np.random.normal(0, 0.1, (self.hidden_dim-i))\n",
    "\n"
   ]
  },
  {
   "cell_type": "code",
   "execution_count": 66,
   "metadata": {
    "collapsed": false
   },
   "outputs": [],
   "source": [
    "def which_active(self, t):\n",
    "    active = self.nb_group\n",
    "    while(True):\n",
    "        t = t% 2**(active - 1)\n",
    "        if(t == 0): break;\n",
    "        active-=1\n",
    "    return active\n",
    "CWRNNNumpy.which_active=which_active\n",
    "\n",
    "\n",
    "def forward_propagation(self, size, initialState):\n",
    "    # The total number of time steps\n",
    "    T = size\n",
    "    # During forward propagation we save all hidden states in s because need them later.\n",
    "    s = np.zeros((T , self.hidden_dim))\n",
    "    s[-1] = np.ones( self.hidden_dim)*initialState\n",
    "    # The outputs at each time step. Again, we save them for later.\n",
    "    o = np.zeros((T, self.out_dim))\n",
    "    # For each time step...\n",
    "    for t in np.arange(T):\n",
    "        #active : last group active for time t\n",
    "        active = self.which_active(t)\n",
    "        if(active != self.nb_group):\n",
    "            Wtmp = np.vstack((self.W[:active*self.nb_member],\n",
    "                              np.zeros((self.hidden_dim-(active*self.nb_member),\n",
    "                                        self.hidden_dim))))\n",
    "        else : Wtmp = self.W                      \n",
    "        s[t] = np.tanh(Wtmp.dot(s[t-1]))\n",
    "        o[t] = self.V.dot(s[t])\n",
    "    return [o, s]\n",
    "\n",
    "CWRNNNumpy.forward_propagation = forward_propagation"
   ]
  },
  {
   "cell_type": "code",
   "execution_count": 67,
   "metadata": {
    "collapsed": false
   },
   "outputs": [],
   "source": [
    "def predict(self, x):\n",
    "    # Perform forward propagation and return index of the highest score\n",
    "    o, s = self.forward_propagation(len(x), x[0])\n",
    "    return o\n",
    "\n",
    "CWRNNNumpy.predict = predict"
   ]
  },
  {
   "cell_type": "code",
   "execution_count": 81,
   "metadata": {
    "collapsed": false
   },
   "outputs": [
    {
     "data": {
      "text/plain": [
       "[<matplotlib.lines.Line2D at 0x7fd04a16ee80>]"
      ]
     },
     "execution_count": 81,
     "metadata": {},
     "output_type": "execute_result"
    },
    {
     "data": {
      "image/png": "[encoded data removed]",
      "text/plain": [
       "<matplotlib.figure.Figure at 0x7fd04a37ab70>"
      ]
     },
     "metadata": {},
     "output_type": "display_data"
    }
   ],
   "source": [
    "model = CWRNNNumpy(out_dim=1, nb_group=10, nb_member=1)\n",
    "X_train = data[4][:,0]\n",
    "X_train = np.ones(320)\n",
    "o = model.predict(X_train)\n",
    "plot(o)"
   ]
  },
  {
   "cell_type": "code",
   "execution_count": 82,
   "metadata": {
    "collapsed": false
   },
   "outputs": [],
   "source": [
    "def calculate_loss(self, x):\n",
    "    o, s = self.forward_propagation(len(x), x[1])\n",
    "    o=o.reshape(x.shape)\n",
    "    return ((x-o)*(x-o)).sum()\n",
    "CWRNNNumpy.calculate_loss=calculate_loss"
   ]
  },
  {
   "cell_type": "code",
   "execution_count": 83,
   "metadata": {
    "collapsed": false
   },
   "outputs": [
    {
     "data": {
      "text/plain": [
       "320.00629281056047"
      ]
     },
     "execution_count": 83,
     "metadata": {},
     "output_type": "execute_result"
    }
   ],
   "source": [
    "loss = model.calculate_loss( X_train)\n",
    "loss"
   ]
  },
  {
   "cell_type": "code",
   "execution_count": 99,
   "metadata": {
    "collapsed": false
   },
   "outputs": [],
   "source": [
    "def bptt(self, y):\n",
    "    T = len(y)\n",
    "    # Perform forward propagation\n",
    "    o, s = self.forward_propagation(len(y), y[0])\n",
    "    # We accumulate the gradients in these variables\n",
    "    dLdV = np.zeros(self.V.shape)\n",
    "    dLdW = np.zeros(self.W.shape)\n",
    "    delta_o = (y.reshape((T,1)) - o)**2\n",
    "    #delta_o[np.arange(len(x)), x] -= 1.\n",
    "    # For each output backwards...\n",
    "    for t in np.arange(T)[::-1]:\n",
    "        active=self.which_active(T-1)\n",
    "        dLdV += delta_o[t] * np.hstack((s[t][:active*self.nb_member], np.zeros((\n",
    "                            self.hidden_dim-active*self.nb_member))))\n",
    "        # Initial delta calculation\n",
    "        delta_t = self.V.T.dot(delta_o[t])\n",
    "        for bptt_step in np.arange(max(0, t-self.bptt_truncate), t+1)[::-1]:\n",
    "            active=self.which_active(T-1)\n",
    "            # print \"Backpropagation step t=%d bptt step=%d \" % (t, bptt_step)\n",
    "            \n",
    "            dLdW += np.outer(delta_t, np.hstack((s[bptt_step-1][:active*self.nb_member], np.zeros((\n",
    "                            self.hidden_dim-active*self.nb_member)))))              \n",
    "            # Update delta for next step\n",
    "            \n",
    "            if(active != self.nb_group):\n",
    "                Wtmp = np.vstack((self.W[:active*self.nb_member],\n",
    "                                  np.zeros((self.hidden_dim-(active*self.nb_member),\n",
    "                                            self.hidden_dim))))\n",
    "            else : Wtmp = self.W   \n",
    "            delta_t = Wtmp.T.dot(delta_t) * (1 - s[bptt_step-1] ** 2)\n",
    "    return [dLdV, dLdW]\n",
    "\n",
    "CWRNNNumpy.bptt = bptt"
   ]
  },
  {
   "cell_type": "code",
   "execution_count": 51,
   "metadata": {
    "collapsed": false
   },
   "outputs": [],
   "source": [
    "def bptt(self, y):\n",
    "    T = len(y)\n",
    "    # Perform forward propagation\n",
    "    o, s = self.forward_propagation(len(y), y[0])\n",
    "    # We accumulate the gradients in these variables\n",
    "    dLdV = np.zeros(self.V.shape)\n",
    "    dLdW = np.zeros(self.W.shape)\n",
    "    delta_o = np.zeros(T)\n",
    "    delta  = np.zeros((T,self.hidden_dim))\n",
    "    # For each output backwards...\n",
    "    delta_o[T-1] = (y[T-1]-o[T-1])\n",
    "    active=self.which_active(T-1)\n",
    "    if(active != self.nb_group):\n",
    "        Wtmp = np.vstack((self.W[:active*self.nb_member],\n",
    "                          np.zeros((self.hidden_dim-(active*self.nb_member),\n",
    "                                    self.hidden_dim))))\n",
    "    else : Wtmp = self.W   \n",
    "    delta[T-1] = (delta_o[T-1]*Wtmp).sum(1) *(1- np.tanh(s[T-1])**2)\n",
    "    dLdV += delta_o[T-1]*s[T-1]\n",
    "    #TODO opti ?\n",
    "    dLdW += delta[T-1]*s[T-2]\n",
    "    for t in np.arange(T-1)[::-1]:\n",
    "        #dLdV += np.outer(delta_o[t], s[t].T)\n",
    "        delta_o[t] = (y[t]-o[t])\n",
    "        active=self.which_active(T-1)\n",
    "        if(active != self.nb_group):\n",
    "            Wtmp = np.vstack((self.W[:active*self.nb_member],\n",
    "                              np.zeros((self.hidden_dim-(active*self.nb_member),\n",
    "                                        self.hidden_dim))))\n",
    "        else : Wtmp = self.W   \n",
    "        delta[t] = (Wtmp.dot(delta[t+1]) + self.V.dot(delta_o[t]))*(1- np.tanh(s[t])**2)\n",
    "        dLdV += delta_o[t]*s[t]\n",
    "        if(t>0):\n",
    "            dLdW += delta[t]*s[t-1]\n",
    "    return [dLdV, dLdW]\n",
    "\n",
    "CWRNNNumpy.bptt = bptt"
   ]
  },
  {
   "cell_type": "code",
   "execution_count": 85,
   "metadata": {
    "collapsed": false
   },
   "outputs": [],
   "source": [
    "# Performs one step of SGD.\n",
    "def numpy_sdg_step(self, x, learning_rate):\n",
    "    # Calculate the gradients\n",
    "    dLdV, dLdW = self.bptt(x)\n",
    "    # Change parameters according to gradients and learning rate\n",
    "    self.V += learning_rate * dLdV\n",
    "    self.W += learning_rate * dLdW\n",
    "\n",
    "CWRNNNumpy.sgd_step = numpy_sdg_step"
   ]
  },
  {
   "cell_type": "code",
   "execution_count": 86,
   "metadata": {
    "collapsed": true
   },
   "outputs": [],
   "source": [
    "# Outer SGD Loop\n",
    "# - model: The RNN model instance\n",
    "# - x: séquence to generate\n",
    "# - learning_rate: Initial learning rate for SGD\n",
    "# - nepoch: Number of times to iterate through the complete dataset\n",
    "def train_with_sgd(model, x, learning_rate=0.0003, nepoch=100):\n",
    "    # We keep track of the losses so we can plot them later\n",
    "    losses = []\n",
    "    for epoch in range(nepoch):\n",
    "        # One SGD step\n",
    "        loss = model.calculate_loss(x)\n",
    "        losses.append(loss)\n",
    "        model.sgd_step(x, learning_rate)\n",
    "        \n",
    "    return losses\n",
    " "
   ]
  },
  {
   "cell_type": "code",
   "execution_count": 100,
   "metadata": {
    "collapsed": false
   },
   "outputs": [],
   "source": [
    "losses = train_with_sgd(model, X_train, nepoch=1000, learning_rate=0.0001)"
   ]
  },
  {
   "cell_type": "code",
   "execution_count": 101,
   "metadata": {
    "collapsed": false
   },
   "outputs": [
    {
     "data": {
      "text/plain": [
       "[<matplotlib.lines.Line2D at 0x7fd04a10b9e8>]"
      ]
     },
     "execution_count": 101,
     "metadata": {},
     "output_type": "execute_result"
    },
    {
     "data": {
      "image/png": "[encoded data removed]",
      "text/plain": [
       "<matplotlib.figure.Figure at 0x7fd04a10bcf8>"
      ]
     },
     "metadata": {},
     "output_type": "display_data"
    }
   ],
   "source": [
    "\n",
    "o = model.predict(X_train)\n",
    "plot(o)\n",
    "plot(X_train)"
   ]
  },
  {
   "cell_type": "code",
   "execution_count": 102,
   "metadata": {
    "collapsed": false
   },
   "outputs": [
    {
     "data": {
      "text/plain": [
       "[<matplotlib.lines.Line2D at 0x7fd04a095278>]"
      ]
     },
     "execution_count": 102,
     "metadata": {},
     "output_type": "execute_result"
    },
    {
     "data": {
      "image/png": "[encoded data removed]",
      "text/plain": [
       "<matplotlib.figure.Figure at 0x7fd04a0bf128>"
      ]
     },
     "metadata": {},
     "output_type": "display_data"
    }
   ],
   "source": [
    "plot(losses)"
   ]
  },
  {
   "cell_type": "code",
   "execution_count": 103,
   "metadata": {
    "collapsed": false
   },
   "outputs": [
    {
     "data": {
      "text/plain": [
       "array([[ -1.14005293e-01,   1.35976373e-01,   4.44608001e-02,\n",
       "          2.33213124e-02,  -2.74184286e-03,   5.19874996e-02,\n",
       "          8.23922951e-03,  -1.85299237e-01,   7.42146894e-02,\n",
       "          2.43131953e-04],\n",
       "       [  1.76949694e-03,  -2.42837447e-03,   5.67640151e-02,\n",
       "         -9.57175913e-02,  -2.23749135e-02,  -1.94640351e-02,\n",
       "         -6.98136235e-02,   2.29777173e-01,  -5.77844062e-04,\n",
       "          4.70970671e-02],\n",
       "       [  1.42990173e-03,   1.26051304e-03,  -4.19316332e-02,\n",
       "          1.70720734e-02,   1.24909319e-02,   4.83467825e-02,\n",
       "         -2.28876288e-03,   1.18858350e-01,   1.64776225e-01,\n",
       "         -1.65128962e-02],\n",
       "       [  3.37949226e-03,   3.17522678e-03,   7.74589044e-03,\n",
       "         -4.32448896e-02,  -4.29885818e-02,  -7.76497341e-02,\n",
       "         -8.93061821e-02,   2.33808847e-01,   1.61407600e-02,\n",
       "         -3.23936741e-02],\n",
       "       [  1.17572401e-03,   1.11583015e-03,   2.72253167e-03,\n",
       "         -2.96723285e-04,   1.94514234e-02,  -1.42919513e-02,\n",
       "          7.80463983e-02,  -2.26141420e-02,   1.69109056e-02,\n",
       "         -1.29890098e-01],\n",
       "       [ -1.35583436e-03,  -1.33337403e-03,  -3.25534365e-03,\n",
       "          3.57211527e-04,   5.74947970e-04,  -3.66914155e-03,\n",
       "         -3.82488762e-02,   6.86919225e-02,   1.16440739e-01,\n",
       "          8.80332909e-02],\n",
       "       [ -1.28977303e-04,  -6.73458322e-05,  -1.61884784e-04,\n",
       "          1.47351948e-05,   2.73826196e-05,  -1.24246802e-04,\n",
       "         -1.46439468e-01,  -1.14528542e-01,   3.51428156e-03,\n",
       "          5.52989077e-02],\n",
       "       [  2.77810704e-03,   2.58317608e-03,   6.30026122e-03,\n",
       "         -6.83699692e-04,  -1.10968421e-03,   4.90780835e-03,\n",
       "         -4.32561240e-03,   7.48309333e-02,   4.39433125e-02,\n",
       "         -2.32664587e-02],\n",
       "       [ -6.40544802e-04,  -6.49369024e-04,  -1.58618679e-03,\n",
       "          1.75004000e-04,   2.80526424e-04,  -1.23750065e-03,\n",
       "          1.08967277e-03,  -5.28987766e-04,   3.18550189e-02,\n",
       "          1.44529177e-01],\n",
       "       [  1.18245008e-03,   1.12149155e-03,   2.73631510e-03,\n",
       "         -2.98189775e-04,  -4.82453244e-04,   2.13236651e-03,\n",
       "         -1.87896532e-03,   9.14994595e-04,   1.63395640e-03,\n",
       "         -5.26586164e-02]])"
      ]
     },
     "execution_count": 103,
     "metadata": {},
     "output_type": "execute_result"
    }
   ],
   "source": [
    "model.W"
   ]
  },
  {
   "cell_type": "code",
   "execution_count": null,
   "metadata": {
    "collapsed": false
   },
   "outputs": [],
   "source": []
  },
  {
   "cell_type": "code",
   "execution_count": null,
   "metadata": {
    "collapsed": true
   },
   "outputs": [],
   "source": []
  }
 ],
 "metadata": {
  "kernelspec": {
   "display_name": "Python 3",
   "language": "python",
   "name": "python3"
  },
  "language_info": {
   "codemirror_mode": {
    "name": "ipython",
    "version": 3
   },
   "file_extension": ".py",
   "mimetype": "text/x-python",
   "name": "python",
   "nbconvert_exporter": "python",
   "pygments_lexer": "ipython3",
   "version": "3.4.3"
  }
 },
 "nbformat": 4,
 "nbformat_minor": 0
}
