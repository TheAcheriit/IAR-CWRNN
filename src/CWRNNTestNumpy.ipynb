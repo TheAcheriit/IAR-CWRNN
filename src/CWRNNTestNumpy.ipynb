{
 "cells": [
  {
   "cell_type": "code",
   "execution_count": 79,
   "metadata": {
    "collapsed": false
   },
   "outputs": [
    {
     "name": "stdout",
     "output_type": "stream",
     "text": [
      "Populating the interactive namespace from numpy and matplotlib\n"
     ]
    }
   ],
   "source": [
    "%pylab inline\n",
    "import os, csv\n",
    "import operator"
   ]
  },
  {
   "cell_type": "code",
   "execution_count": 80,
   "metadata": {
    "collapsed": false
   },
   "outputs": [
    {
     "data": {
      "text/plain": [
       "[<matplotlib.lines.Line2D at 0x7ff8a94a2cf8>]"
      ]
     },
     "execution_count": 80,
     "metadata": {},
     "output_type": "execute_result"
    },
    {
     "data": {
      "image/png": "[encoded data removed]",
      "text/plain": [
       "<matplotlib.figure.Figure at 0x7ff8a94ea5c0>"
      ]
     },
     "metadata": {},
     "output_type": "display_data"
    }
   ],
   "source": [
    "data_to_charge = 0 # 0 is for the music samples, 1 is for TIMIT\n",
    "if data_to_charge not in (0, 1):\n",
    "    raise ValueError(\"data_to_charge must be 0 (music) or 1 (speech)\")\n",
    "elif data_to_charge == 0:\n",
    "    data_folder = \"../sample/\"\n",
    "else:\n",
    "    data_folder = \"../timit\"\n",
    "\n",
    "files_names = (os.listdir(data_folder))\n",
    "folder_size = len(files_names)\n",
    "sample_lenght = 0\n",
    "\n",
    "cr = csv.reader(open(data_folder + files_names[0], \"r\"))\n",
    "for row in cr:\n",
    "    sample_lenght += 1\n",
    "\n",
    "data = np.zeros((folder_size, sample_lenght, 2))\n",
    "    \n",
    "for file_number, file in enumerate(files_names):\n",
    "    cr = csv.reader(open(data_folder + file, \"r\"))\n",
    "    for row_number, row in enumerate(cr):\n",
    "        data[file_number][row_number] = [float(row[0]), float(row[1])]\n",
    "        \n",
    "plot(data[4][:,0])"
   ]
  },
  {
   "cell_type": "code",
   "execution_count": 105,
   "metadata": {
    "collapsed": false
   },
   "outputs": [],
   "source": [
    "class CWRNNNumpy:\n",
    "    \n",
    "    def __init__(self, out_dim, nb_group, nb_member, bptt_truncate=320):\n",
    "        # Assign instance variables\n",
    "        self.out_dim = out_dim\n",
    "        self.nb_group = nb_group\n",
    "        self.nb_member = nb_member\n",
    "        self.hidden_dim = nb_group*nb_member\n",
    "        self.bptt_truncate = bptt_truncate\n",
    "        # Randomly initialize the network parameters\n",
    "        self.V = np.random.normal(0, 0.1, (out_dim, self.hidden_dim))\n",
    "        self.W = np.zeros((self.hidden_dim, self.hidden_dim))\n",
    "        for i in range(nb_group) :\n",
    "            for j in range(nb_member):\n",
    "                self.W[i*nb_member+j][i:] = np.random.normal(0, 0.1, (self.hidden_dim-i))\n",
    "        self.bW = np.random.normal(0, 0.1, (self.hidden_dim))\n",
    "        self.bV = np.random.normal(0, 0.1, (out_dim))\n",
    "\n"
   ]
  },
  {
   "cell_type": "code",
   "execution_count": 106,
   "metadata": {
    "collapsed": false
   },
   "outputs": [],
   "source": [
    "def which_active(self, t):\n",
    "    active = self.nb_group\n",
    "    while(True):\n",
    "        t = t% 2**(active - 1)\n",
    "        if(t == 0): break;\n",
    "        active-=1\n",
    "    return active\n",
    "CWRNNNumpy.which_active=which_active\n",
    "\n",
    "\n",
    "def forward_propagation(self, size, initialState):\n",
    "    # The total number of time steps\n",
    "    T = size\n",
    "    # During forward propagation we save all hidden states in s because need them later.\n",
    "    s = np.zeros((T , self.hidden_dim))\n",
    "    s[-1] = np.ones( self.hidden_dim)*initialState\n",
    "    # The outputs at each time step. Again, we save them for later.\n",
    "    o = np.zeros((T, self.out_dim))\n",
    "    # For each time step...\n",
    "    for t in np.arange(T):\n",
    "        #active : last group active for time t\n",
    "        active = self.which_active(t)\n",
    "        s[t][:active*self.nb_member] = np.tanh(self.W[:active*self.nb_member].dot(s[t-1]) \n",
    "                                               + self.bW[:active*self.nb_member])\n",
    "        s[t][active*self.nb_member:] = s[t-1][active*self.nb_member:]\n",
    "        o[t] = self.V.dot(s[t]) + self.bV\n",
    "    return [o, s]\n",
    "\n",
    "CWRNNNumpy.forward_propagation = forward_propagation"
   ]
  },
  {
   "cell_type": "code",
   "execution_count": 107,
   "metadata": {
    "collapsed": false
   },
   "outputs": [],
   "source": [
    "def predict(self, x):\n",
    "    # Perform forward propagation and return index of the highest score\n",
    "    o, s = self.forward_propagation(len(x), x[0])\n",
    "    return o\n",
    "\n",
    "CWRNNNumpy.predict = predict"
   ]
  },
  {
   "cell_type": "code",
   "execution_count": 108,
   "metadata": {
    "collapsed": false
   },
   "outputs": [
    {
     "data": {
      "text/plain": [
       "[<matplotlib.lines.Line2D at 0x7ff8a90d4d30>]"
      ]
     },
     "execution_count": 108,
     "metadata": {},
     "output_type": "execute_result"
    },
    {
     "data": {
      "image/png": "[encoded data removed]",
      "text/plain": [
       "<matplotlib.figure.Figure at 0x7ff8a9117c50>"
      ]
     },
     "metadata": {},
     "output_type": "display_data"
    }
   ],
   "source": [
    "model = CWRNNNumpy(out_dim=1, nb_group=10, nb_member=1)\n",
    "X_train = data[4][:,0]\n",
    "#X_train = np.ones(2)\n",
    "o = model.predict(X_train)\n",
    "plot(o)"
   ]
  },
  {
   "cell_type": "code",
   "execution_count": 109,
   "metadata": {
    "collapsed": false
   },
   "outputs": [
    {
     "data": {
      "text/plain": [
       "array([[ 0.00043928,  0.02011567, -0.14162611, -0.10295224, -0.05178057,\n",
       "         0.1413022 , -0.19698359,  0.0046138 ,  0.03294115, -0.051919  ],\n",
       "       [ 0.        , -0.01228345,  0.20869463, -0.03751556,  0.08586848,\n",
       "         0.03086487, -0.03926241, -0.14984327,  0.0522158 , -0.01276319],\n",
       "       [ 0.        ,  0.        ,  0.03937856,  0.0753915 , -0.06209232,\n",
       "        -0.01807259,  0.02804249,  0.03820814,  0.24663715,  0.00704214],\n",
       "       [ 0.        ,  0.        ,  0.        , -0.09028788,  0.00669796,\n",
       "         0.09111389, -0.06701733,  0.09371233, -0.02808578,  0.14313603],\n",
       "       [ 0.        ,  0.        ,  0.        ,  0.        ,  0.07370144,\n",
       "         0.16754547,  0.15987627,  0.03388177, -0.030302  ,  0.01699557],\n",
       "       [ 0.        ,  0.        ,  0.        ,  0.        ,  0.        ,\n",
       "        -0.01398947,  0.09076501,  0.09752406,  0.15577245, -0.00502948],\n",
       "       [ 0.        ,  0.        ,  0.        ,  0.        ,  0.        ,\n",
       "         0.        ,  0.09739079,  0.12639224,  0.23708072, -0.02216809],\n",
       "       [ 0.        ,  0.        ,  0.        ,  0.        ,  0.        ,\n",
       "         0.        ,  0.        ,  0.12610053, -0.01392961, -0.01550781],\n",
       "       [ 0.        ,  0.        ,  0.        ,  0.        ,  0.        ,\n",
       "         0.        ,  0.        ,  0.        , -0.11873427,  0.04167587],\n",
       "       [ 0.        ,  0.        ,  0.        ,  0.        ,  0.        ,\n",
       "         0.        ,  0.        ,  0.        ,  0.        , -0.08073955]])"
      ]
     },
     "execution_count": 109,
     "metadata": {},
     "output_type": "execute_result"
    }
   ],
   "source": [
    "model.W"
   ]
  },
  {
   "cell_type": "code",
   "execution_count": 110,
   "metadata": {
    "collapsed": false
   },
   "outputs": [],
   "source": [
    "def calculate_loss(self, x):\n",
    "    o, s = self.forward_propagation(len(x), x[1])\n",
    "    o=o.reshape(x.shape)\n",
    "    return ((x-o)*(x-o)).sum()\n",
    "CWRNNNumpy.calculate_loss=calculate_loss"
   ]
  },
  {
   "cell_type": "code",
   "execution_count": 111,
   "metadata": {
    "collapsed": false
   },
   "outputs": [
    {
     "data": {
      "text/plain": [
       "24.973625470898547"
      ]
     },
     "execution_count": 111,
     "metadata": {},
     "output_type": "execute_result"
    }
   ],
   "source": [
    "loss = model.calculate_loss( X_train)\n",
    "loss"
   ]
  },
  {
   "cell_type": "code",
   "execution_count": 112,
   "metadata": {
    "collapsed": false
   },
   "outputs": [],
   "source": [
    "def bptt(self, y):\n",
    "    T = len(y)\n",
    "    # Perform forward propagation\n",
    "    o, s = self.forward_propagation(len(y), y[0])\n",
    "    # We accumulate the gradients in these variables\n",
    "    dLdV = np.zeros(self.V.shape)\n",
    "    dLdW = np.zeros(self.W.shape)\n",
    "    dLdbW = np.zeros(self.bW.shape)\n",
    "    dLdbV = np.zeros(self.bV.shape)\n",
    "    delta_o = (y.reshape((T,1)) - o)\n",
    "\n",
    "    # For each output backwards...\n",
    "    for t in np.arange(T)[::-1]:\n",
    "        active=self.which_active(T-1)\n",
    "        dLdV += delta_o[t] * (s[t])\n",
    "        dLdbV += delta_o[t]\n",
    "        # Initial delta calculation\n",
    "        delta_t = self.V.T.dot(delta_o[t])\n",
    "        for bptt_step in np.arange(max(0, t-self.bptt_truncate), t+1)[::-1]:\n",
    "            active=self.which_active(bptt_step)\n",
    "            # print \"Backpropagation step t=%d bptt step=%d \" % (t, bptt_step)\n",
    "            if(bptt_step>0):\n",
    "                for i in range(active):\n",
    "                    for j in range(self.nb_member):\n",
    "                        dLdW[i+j][i:] += delta_t[i+j]*s[bptt_step-1][i:]\n",
    "\n",
    "            dLdbW[:active*self.nb_member] += delta_t[:active*self.nb_member]\n",
    "            # Update delta for next step\n",
    "            \n",
    "            if(active != self.nb_group):\n",
    "                Wtmp = np.vstack((self.W[:active*self.nb_member],\n",
    "                                  np.zeros((self.hidden_dim-(active*self.nb_member),\n",
    "                                            self.hidden_dim))))\n",
    "            else : Wtmp = self.W   \n",
    "            delta_t = Wtmp.T.dot(delta_t) * (1 - s[bptt_step-1] ** 2)\n",
    "    return [dLdV, dLdbV, dLdW, dLdbW]\n",
    "\n",
    "CWRNNNumpy.bptt = bptt"
   ]
  },
  {
   "cell_type": "code",
   "execution_count": 113,
   "metadata": {
    "collapsed": false
   },
   "outputs": [],
   "source": [
    "# Performs one step of SGD.\n",
    "def numpy_sdg_step(self, x, learning_rate, momentum):\n",
    "    #Nesterov Accelerated Gradient\n",
    "    W, dW, V, dV = self.W, self.bW, self.V, self.bV\n",
    "    self.W= self.W + momentum*self.velocityW\n",
    "    self.bW= self.bW + momentum*self.velocitybW\n",
    "    self.V= self.V + momentum*self.velocityV\n",
    "    self.bV= self.bV + momentum*self.velocitybV\n",
    "    \n",
    "    dLdV, dLdbV, dLdW, dLdbW= self.bptt(x)\n",
    "\n",
    "    # Change parameters according to gradients and learning rate\n",
    "    self.velocityV = momentum*self.velocityV + learning_rate * dLdV\n",
    "    self.velocityW = momentum*self.velocityW + learning_rate * dLdW\n",
    "    self.velocitybV = momentum*self.velocitybV + learning_rate * dLdbV\n",
    "    self.velocitybW = momentum*self.velocitybW + learning_rate * dLdbW\n",
    "    \n",
    "    self.V = self.V + self.velocityV\n",
    "    self.W =self.W + self.velocityW\n",
    "    self.bV = self.bV + self.velocitybV\n",
    "    self.bW = self.bW + self.velocitybW\n",
    "CWRNNNumpy.sgd_step = numpy_sdg_step"
   ]
  },
  {
   "cell_type": "code",
   "execution_count": 114,
   "metadata": {
    "collapsed": true
   },
   "outputs": [],
   "source": [
    "# Outer SGD Loop\n",
    "# - model: The RNN model instance\n",
    "# - x: séquence to generate\n",
    "# - learning_rate: Initial learning rate for SGD\n",
    "# - nepoch: Number of times to iterate through the complete dataset\n",
    "def train_with_sgd(model, x, learning_rate=0.0003, momentum=0.95, nepoch=100):\n",
    "    # We keep track of the losses so we can plot them later\n",
    "    losses = []\n",
    "    model.velocityV=0\n",
    "    model.velocityW=0\n",
    "    model.velocitybV=0\n",
    "    model.velocitybW=0\n",
    "    \n",
    "    for epoch in range(nepoch):\n",
    "        # One SGD step\n",
    "        loss = model.calculate_loss(x)\n",
    "        losses.append(loss)\n",
    "        model.sgd_step(x, learning_rate, momentum)\n",
    "        \n",
    "    return losses\n",
    " "
   ]
  },
  {
   "cell_type": "code",
   "execution_count": 115,
   "metadata": {
    "collapsed": false,
    "scrolled": false
   },
   "outputs": [],
   "source": [
    "\n",
    "losses = train_with_sgd(model, X_train, nepoch=2000, learning_rate=0.0001)"
   ]
  },
  {
   "cell_type": "code",
   "execution_count": 116,
   "metadata": {
    "collapsed": false
   },
   "outputs": [
    {
     "data": {
      "text/plain": [
       "[<matplotlib.lines.Line2D at 0x7ff8a9122eb8>]"
      ]
     },
     "execution_count": 116,
     "metadata": {},
     "output_type": "execute_result"
    },
    {
     "data": {
      "image/png": "[encoded data removed]",
      "text/plain": [
       "<matplotlib.figure.Figure at 0x7ff8a91229b0>"
      ]
     },
     "metadata": {},
     "output_type": "display_data"
    }
   ],
   "source": [
    "\n",
    "o = model.predict(X_train)\n",
    "plot(o)\n",
    "plot(X_train)"
   ]
  },
  {
   "cell_type": "code",
   "execution_count": 117,
   "metadata": {
    "collapsed": false
   },
   "outputs": [
    {
     "data": {
      "text/plain": [
       "[<matplotlib.lines.Line2D at 0x7ff8a90114a8>]"
      ]
     },
     "execution_count": 117,
     "metadata": {},
     "output_type": "execute_result"
    },
    {
     "data": {
      "image/png": "[encoded data removed]",
      "text/plain": [
       "<matplotlib.figure.Figure at 0x7ff8a90554e0>"
      ]
     },
     "metadata": {},
     "output_type": "display_data"
    }
   ],
   "source": [
    "plot(losses)"
   ]
  },
  {
   "cell_type": "code",
   "execution_count": 104,
   "metadata": {
    "collapsed": false
   },
   "outputs": [
    {
     "data": {
      "text/plain": [
       "array([[-0.01496269, -0.02960127,  0.04049975, -0.03976386, -0.04291424,\n",
       "         0.17390071, -0.13606181,  0.05252415, -0.45661399, -0.18297843],\n",
       "       [ 0.        , -0.04058957,  0.0147086 , -0.02177481,  0.14413991,\n",
       "         0.01858764, -0.11669507,  0.07021537,  0.00749919, -0.03190419],\n",
       "       [ 0.        ,  0.        ,  0.65799163,  0.35067623, -0.3808796 ,\n",
       "        -0.06076791, -0.52851935,  0.18535569, -0.24877627,  0.07117198],\n",
       "       [ 0.        ,  0.        ,  0.        ,  0.18611664, -0.21741791,\n",
       "         0.10366859, -0.14376323,  0.26195598, -0.01842713,  0.11456199],\n",
       "       [ 0.        ,  0.        ,  0.        ,  0.        ,  0.75052323,\n",
       "         0.26337259,  0.42965079, -0.23957503,  0.59688534, -0.1594549 ],\n",
       "       [ 0.        ,  0.        ,  0.        ,  0.        ,  0.        ,\n",
       "        -0.10706835,  0.11943491, -0.29133127, -0.09626396,  0.03239394],\n",
       "       [ 0.        ,  0.        ,  0.        ,  0.        ,  0.        ,\n",
       "         0.        ,  0.1258367 ,  0.05327788, -0.16054168, -0.07948599],\n",
       "       [ 0.        ,  0.        ,  0.        ,  0.        ,  0.        ,\n",
       "         0.        ,  0.        ,  0.03883919,  0.05093754, -0.04208973],\n",
       "       [ 0.        ,  0.        ,  0.        ,  0.        ,  0.        ,\n",
       "         0.        ,  0.        ,  0.        , -0.08919687, -0.08544618],\n",
       "       [ 0.        ,  0.        ,  0.        ,  0.        ,  0.        ,\n",
       "         0.        ,  0.        ,  0.        ,  0.        ,  0.03416166]])"
      ]
     },
     "execution_count": 104,
     "metadata": {},
     "output_type": "execute_result"
    }
   ],
   "source": [
    "model.W"
   ]
  },
  {
   "cell_type": "code",
   "execution_count": 183,
   "metadata": {
    "collapsed": false
   },
   "outputs": [
    {
     "data": {
      "text/plain": [
       "3.9467341180984985e+138"
      ]
     },
     "execution_count": 183,
     "metadata": {},
     "output_type": "execute_result"
    }
   ],
   "source": []
  },
  {
   "cell_type": "code",
   "execution_count": null,
   "metadata": {
    "collapsed": true
   },
   "outputs": [],
   "source": []
  }
 ],
 "metadata": {
  "kernelspec": {
   "display_name": "Python 3",
   "language": "python",
   "name": "python3"
  },
  "language_info": {
   "codemirror_mode": {
    "name": "ipython",
    "version": 3
   },
   "file_extension": ".py",
   "mimetype": "text/x-python",
   "name": "python",
   "nbconvert_exporter": "python",
   "pygments_lexer": "ipython3",
   "version": "3.4.3"
  }
 },
 "nbformat": 4,
 "nbformat_minor": 0
}
