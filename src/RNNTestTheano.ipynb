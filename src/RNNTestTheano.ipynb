{
 "cells": [
  {
   "cell_type": "code",
   "execution_count": 5,
   "metadata": {
    "collapsed": false
   },
   "outputs": [
    {
     "name": "stdout",
     "output_type": "stream",
     "text": [
      "Populating the interactive namespace from numpy and matplotlib\n"
     ]
    }
   ],
   "source": [
    "%pylab inline\n",
    "import theano as theano\n",
    "import theano.tensor as T\n",
    "import operator\n",
    "import os, csv"
   ]
  },
  {
   "cell_type": "code",
   "execution_count": 6,
   "metadata": {
    "collapsed": false
   },
   "outputs": [
    {
     "data": {
      "text/plain": [
       "[<matplotlib.lines.Line2D at 0x7f0115188c18>]"
      ]
     },
     "execution_count": 6,
     "metadata": {},
     "output_type": "execute_result"
    },
    {
     "data": {
      "image/png": "[encoded data removed]",
      "text/plain": [
       "<matplotlib.figure.Figure at 0x7f011527d5f8>"
      ]
     },
     "metadata": {},
     "output_type": "display_data"
    }
   ],
   "source": [
    "data_to_charge = 0 # 0 is for the music samples, 1 is for TIMIT\n",
    "if data_to_charge not in (0, 1):\n",
    "    raise ValueError(\"data_to_charge must be 0 (music) or 1 (speech)\")\n",
    "elif data_to_charge == 0:\n",
    "    data_folder = \"../sample/\"\n",
    "else:\n",
    "    data_folder = \"../timit\"\n",
    "\n",
    "files_names = (os.listdir(data_folder))\n",
    "folder_size = len(files_names)\n",
    "sample_lenght = 0\n",
    "\n",
    "cr = csv.reader(open(data_folder + files_names[0], \"r\"))\n",
    "for row in cr:\n",
    "    sample_lenght += 1\n",
    "\n",
    "data = np.zeros((folder_size, sample_lenght, 2))\n",
    "    \n",
    "for file_number, file in enumerate(files_names):\n",
    "    cr = csv.reader(open(data_folder + file, \"r\"))\n",
    "    for row_number, row in enumerate(cr):\n",
    "        data[file_number][row_number] = [float(row[0]), float(row[1])]\n",
    "        \n",
    "plot(data[4][:,0])"
   ]
  },
  {
   "cell_type": "code",
   "execution_count": 10,
   "metadata": {
    "collapsed": true
   },
   "outputs": [],
   "source": [
    "class RNNTheano:\n",
    "    \n",
    "    def __init__(self, word_dim=1, hidden_dim=100, bptt_truncate=4):\n",
    "        # Assign instance variables\n",
    "        self.word_dim = word_dim\n",
    "        self.hidden_dim = hidden_dim\n",
    "        self.bptt_truncate = bptt_truncate\n",
    "        # Randomly initialize the network parameters\n",
    "        V = np.random.normal(0,0.1, (word_dim, hidden_dim))\n",
    "        W = np.random.normal(0,0.1, (hidden_dim, hidden_dim))\n",
    "        b1 = np.random.normal(0,0.1, (hidden_dim))\n",
    "        # Theano: Created shared variables\n",
    "        self.V = theano.shared(name='V', value=V.astype(theano.config.floatX))\n",
    "        self.W = theano.shared(name='W', value=W.astype(theano.config.floatX))      \n",
    "        self.b1 = theano.shared(name='b1', value=b1.astype(theano.config.floatX))      \n",
    "        # We store the Theano graph here\n",
    "        self.theano = {}\n",
    "        self.__theano_build__()\n",
    "    \n",
    "    def __theano_build__(self):\n",
    "        V, W, b1 = self.V, self.W, self.b1\n",
    "        x = T.ivector('x')\n",
    "        def forward_prop_step(x_t, s_t_prev, V, W, b1):\n",
    "            s_t = T.tanh(W.dot(s_t_prev)+b1)\n",
    "            o_t = V.dot(s_t)\n",
    "            return [o_t[0], s_t]\n",
    "        [o,s], updates = theano.scan(\n",
    "            forward_prop_step,\n",
    "            sequences=x,\n",
    "            outputs_info=[None, dict(initial=T.zeros(self.hidden_dim))],\n",
    "            non_sequences=[V, W, b1],\n",
    "            truncate_gradient=self.bptt_truncate,\n",
    "            strict=True)\n",
    "        \n",
    "        prediction = o\n",
    "        o_error = T.mean((o - x) ** 2)\n",
    "        \n",
    "        # Gradients\n",
    "        dV, dW, db1 = T.grad(o_error, [V, W, b1])\n",
    "\n",
    "        \n",
    "        # Assign functions\n",
    "        self.forward_propagation = theano.function([x], o)\n",
    "        self.predict = theano.function([x], prediction)\n",
    "        self.ce_error = theano.function([x], o_error)\n",
    "        self.bptt = theano.function([x], [dV, dW, db1])\n",
    "        \n",
    "        # SGD\n",
    "        learning_rate = T.scalar('learning_rate')\n",
    "        self.sgd_step = theano.function([x,learning_rate], \n",
    "                      updates=[(self.V, self.V - learning_rate * dV),\n",
    "                              (self.W, self.W - learning_rate * dW),\n",
    "                              (self.b1, self.b1 - learning_rate * db1)])\n",
    "    \n",
    "    def calculate_loss(self, x):\n",
    "        return self.ce_error(x)"
   ]
  },
  {
   "cell_type": "code",
   "execution_count": 11,
   "metadata": {
    "collapsed": true
   },
   "outputs": [],
   "source": [
    "def train_with_sgd(model, x, learning_rate=0.0003, nepoch=100):\n",
    "    # We keep track of the losses so we can plot them later\n",
    "    losses = []\n",
    "    for epoch in range(nepoch):\n",
    "        loss = model.calculate_loss(x)\n",
    "        losses.append(loss)\n",
    "        # One SGD step\n",
    "        model.sgd_step(x, learning_rate)\n",
    "    return losses\n"
   ]
  },
  {
   "cell_type": "code",
   "execution_count": 12,
   "metadata": {
    "collapsed": false
   },
   "outputs": [
    {
     "name": "stderr",
     "output_type": "stream",
     "text": [
      "/usr/lib/python3.5/site-packages/theano/scan_module/scan.py:1017: Warning: In the strict mode, all neccessary shared variables must be passed as a part of non_sequences\n",
      "  'must be passed as a part of non_sequences', Warning)\n",
      "ERROR (theano.gof.opt): SeqOptimizer apply <theano.tensor.opt.FusionOptimizer object at 0x7f011768c6d8>\n",
      "ERROR:theano.gof.opt:SeqOptimizer apply <theano.tensor.opt.FusionOptimizer object at 0x7f011768c6d8>\n",
      "ERROR (theano.gof.opt): Traceback:\n",
      "ERROR:theano.gof.opt:Traceback:\n",
      "ERROR (theano.gof.opt): Traceback (most recent call last):\n",
      "  File \"/usr/lib/python3.5/site-packages/theano/gof/opt.py\", line 196, in apply\n",
      "    sub_prof = optimizer.optimize(fgraph)\n",
      "  File \"/usr/lib/python3.5/site-packages/theano/gof/opt.py\", line 82, in optimize\n",
      "    ret = self.apply(fgraph, *args, **kwargs)\n",
      "  File \"/usr/lib/python3.5/site-packages/theano/tensor/opt.py\", line 5499, in apply\n",
      "    new_outputs = self.optimizer(node)\n",
      "  File \"/usr/lib/python3.5/site-packages/theano/tensor/opt.py\", line 5446, in local_fuse\n",
      "    ret = local_fuse(n)\n",
      "  File \"/usr/lib/python3.5/site-packages/theano/tensor/opt.py\", line 5446, in local_fuse\n",
      "    ret = local_fuse(n)\n",
      "  File \"/usr/lib/python3.5/site-packages/theano/tensor/opt.py\", line 5446, in local_fuse\n",
      "    ret = local_fuse(n)\n",
      "  File \"/usr/lib/python3.5/site-packages/theano/tensor/opt.py\", line 5434, in local_fuse\n",
      "    n = OP(C)(*inputs).owner\n",
      "  File \"/usr/lib/python3.5/site-packages/theano/tensor/elemwise.py\", line 496, in __init__\n",
      "    scalar_op.nout)\n",
      "ValueError: Cannot construct a ufunc with more than 32 operands (requested number were: inputs = 33 and outputs = 1)\n",
      "\n",
      "ERROR:theano.gof.opt:Traceback (most recent call last):\n",
      "  File \"/usr/lib/python3.5/site-packages/theano/gof/opt.py\", line 196, in apply\n",
      "    sub_prof = optimizer.optimize(fgraph)\n",
      "  File \"/usr/lib/python3.5/site-packages/theano/gof/opt.py\", line 82, in optimize\n",
      "    ret = self.apply(fgraph, *args, **kwargs)\n",
      "  File \"/usr/lib/python3.5/site-packages/theano/tensor/opt.py\", line 5499, in apply\n",
      "    new_outputs = self.optimizer(node)\n",
      "  File \"/usr/lib/python3.5/site-packages/theano/tensor/opt.py\", line 5446, in local_fuse\n",
      "    ret = local_fuse(n)\n",
      "  File \"/usr/lib/python3.5/site-packages/theano/tensor/opt.py\", line 5446, in local_fuse\n",
      "    ret = local_fuse(n)\n",
      "  File \"/usr/lib/python3.5/site-packages/theano/tensor/opt.py\", line 5446, in local_fuse\n",
      "    ret = local_fuse(n)\n",
      "  File \"/usr/lib/python3.5/site-packages/theano/tensor/opt.py\", line 5434, in local_fuse\n",
      "    n = OP(C)(*inputs).owner\n",
      "  File \"/usr/lib/python3.5/site-packages/theano/tensor/elemwise.py\", line 496, in __init__\n",
      "    scalar_op.nout)\n",
      "ValueError: Cannot construct a ufunc with more than 32 operands (requested number were: inputs = 33 and outputs = 1)\n",
      "\n",
      "ERROR (theano.gof.opt): SeqOptimizer apply <theano.tensor.opt.FusionOptimizer object at 0x7f011768c6d8>\n",
      "ERROR:theano.gof.opt:SeqOptimizer apply <theano.tensor.opt.FusionOptimizer object at 0x7f011768c6d8>\n",
      "ERROR (theano.gof.opt): Traceback:\n",
      "ERROR:theano.gof.opt:Traceback:\n",
      "ERROR (theano.gof.opt): Traceback (most recent call last):\n",
      "  File \"/usr/lib/python3.5/site-packages/theano/gof/opt.py\", line 196, in apply\n",
      "    sub_prof = optimizer.optimize(fgraph)\n",
      "  File \"/usr/lib/python3.5/site-packages/theano/gof/opt.py\", line 82, in optimize\n",
      "    ret = self.apply(fgraph, *args, **kwargs)\n",
      "  File \"/usr/lib/python3.5/site-packages/theano/tensor/opt.py\", line 5499, in apply\n",
      "    new_outputs = self.optimizer(node)\n",
      "  File \"/usr/lib/python3.5/site-packages/theano/tensor/opt.py\", line 5446, in local_fuse\n",
      "    ret = local_fuse(n)\n",
      "  File \"/usr/lib/python3.5/site-packages/theano/tensor/opt.py\", line 5446, in local_fuse\n",
      "    ret = local_fuse(n)\n",
      "  File \"/usr/lib/python3.5/site-packages/theano/tensor/opt.py\", line 5446, in local_fuse\n",
      "    ret = local_fuse(n)\n",
      "  File \"/usr/lib/python3.5/site-packages/theano/tensor/opt.py\", line 5434, in local_fuse\n",
      "    n = OP(C)(*inputs).owner\n",
      "  File \"/usr/lib/python3.5/site-packages/theano/tensor/elemwise.py\", line 496, in __init__\n",
      "    scalar_op.nout)\n",
      "ValueError: Cannot construct a ufunc with more than 32 operands (requested number were: inputs = 33 and outputs = 1)\n",
      "\n",
      "ERROR:theano.gof.opt:Traceback (most recent call last):\n",
      "  File \"/usr/lib/python3.5/site-packages/theano/gof/opt.py\", line 196, in apply\n",
      "    sub_prof = optimizer.optimize(fgraph)\n",
      "  File \"/usr/lib/python3.5/site-packages/theano/gof/opt.py\", line 82, in optimize\n",
      "    ret = self.apply(fgraph, *args, **kwargs)\n",
      "  File \"/usr/lib/python3.5/site-packages/theano/tensor/opt.py\", line 5499, in apply\n",
      "    new_outputs = self.optimizer(node)\n",
      "  File \"/usr/lib/python3.5/site-packages/theano/tensor/opt.py\", line 5446, in local_fuse\n",
      "    ret = local_fuse(n)\n",
      "  File \"/usr/lib/python3.5/site-packages/theano/tensor/opt.py\", line 5446, in local_fuse\n",
      "    ret = local_fuse(n)\n",
      "  File \"/usr/lib/python3.5/site-packages/theano/tensor/opt.py\", line 5446, in local_fuse\n",
      "    ret = local_fuse(n)\n",
      "  File \"/usr/lib/python3.5/site-packages/theano/tensor/opt.py\", line 5434, in local_fuse\n",
      "    n = OP(C)(*inputs).owner\n",
      "  File \"/usr/lib/python3.5/site-packages/theano/tensor/elemwise.py\", line 496, in __init__\n",
      "    scalar_op.nout)\n",
      "ValueError: Cannot construct a ufunc with more than 32 operands (requested number were: inputs = 33 and outputs = 1)\n",
      "\n"
     ]
    }
   ],
   "source": [
    "model = RNNTheano()"
   ]
  },
  {
   "cell_type": "code",
   "execution_count": 37,
   "metadata": {
    "collapsed": false
   },
   "outputs": [
    {
     "ename": "TypeError",
     "evalue": "('Bad input argument to theano function with name \"<ipython-input-34-b99ea8b14a65>:50\"  at index 0(0-based)', 'TensorType(int32, vector) cannot store a value of dtype float64 without risking loss of precision. If you do not mind this loss, you can: 1) explicitly cast your data to int32, or 2) set \"allow_input_downcast=True\" when calling \"function\".', array([  2.35350000e-01,   1.30760000e-01,   3.25700000e-02,\n        -6.73300000e-02,  -1.33060000e-01,  -1.06620000e-01,\n        -4.19400000e-02,   4.85700000e-02,   1.49830000e-01,\n         1.87030000e-01,   2.14650000e-01,   2.60230000e-01,\n         2.40090000e-01,   1.23610000e-01,  -6.83500000e-02,\n        -1.90790000e-01,  -1.23400000e-01,  -3.09000000e-03,\n        -6.83000000e-03,  -1.37810000e-01,  -1.94750000e-01,\n        -7.16300000e-02,  -2.04200000e-02,  -1.20310000e-01,\n        -1.44130000e-01,  -1.46670000e-01,  -3.06970000e-01,\n        -5.23700000e-01,  -6.37590000e-01,  -6.15220000e-01,\n        -4.68160000e-01,  -2.59980000e-01,  -1.02760000e-01,\n        -4.25600000e-02,  -5.68800000e-02,  -6.69400000e-02,\n        -4.71000000e-03,  -4.31000000e-03,  -1.38150000e-01,\n        -2.07040000e-01,  -1.59180000e-01,  -1.17540000e-01,\n        -1.36890000e-01,  -2.40880000e-01,  -3.00170000e-01,\n        -1.89930000e-01,  -8.00900000e-02,  -9.00600000e-02,\n        -1.07230000e-01,  -1.22820000e-01,  -2.16570000e-01,\n        -2.88740000e-01,  -2.56850000e-01,  -2.89970000e-01,\n        -4.67460000e-01,  -5.94270000e-01,  -5.69900000e-01,\n        -5.32720000e-01,  -5.35670000e-01,  -4.32460000e-01,\n        -2.75190000e-01,  -2.92550000e-01,  -3.92140000e-01,\n        -3.99160000e-01,  -3.65560000e-01,  -2.80060000e-01,\n        -1.60630000e-01,  -1.65830000e-01,  -3.02220000e-01,\n        -4.28740000e-01,  -4.39710000e-01,  -3.44950000e-01,\n        -2.42340000e-01,  -1.93610000e-01,  -1.79560000e-01,\n        -1.42020000e-01,  -1.09950000e-01,  -1.57970000e-01,\n        -2.35380000e-01,  -2.80380000e-01,  -2.67660000e-01,\n        -2.01000000e-01,  -2.14880000e-01,  -3.14600000e-01,\n        -3.20090000e-01,  -2.37920000e-01,  -1.55740000e-01,\n        -2.94700000e-02,   9.27200000e-02,   6.59400000e-02,\n        -8.48400000e-02,  -2.71600000e-01,  -5.03310000e-01,\n        -6.76470000e-01,  -6.58540000e-01,  -5.33100000e-01,\n        -3.68180000e-01,  -1.62500000e-01,  -2.49100000e-02,\n        -1.81500000e-02,  -9.41300000e-02,  -2.14570000e-01,\n        -3.36740000e-01,  -4.06230000e-01,  -4.29070000e-01,\n        -4.61590000e-01,  -4.99180000e-01,  -5.10380000e-01,\n        -4.88390000e-01,  -3.97050000e-01,  -2.86820000e-01,\n        -2.33000000e-01,  -1.60260000e-01,  -6.37000000e-02,\n        -2.11900000e-02,   3.19500000e-02,   1.44550000e-01,\n         2.28120000e-01,   2.17690000e-01,   1.50170000e-01,\n         8.09700000e-02,   5.33300000e-02,   1.04690000e-01,\n         1.61650000e-01,   1.44020000e-01,   1.02410000e-01,\n         6.18200000e-02,   5.42800000e-02,   1.01250000e-01,\n         6.70700000e-02,  -7.97300000e-02,  -2.22740000e-01,\n        -2.98350000e-01,  -2.39860000e-01,  -9.49400000e-02,\n         3.73000000e-03,   6.10700000e-02,   5.93500000e-02,\n        -1.82900000e-02,  -5.36900000e-02,  -4.00500000e-02,\n        -5.01000000e-02,  -4.74600000e-02,  -3.15300000e-02,\n        -2.91000000e-02,  -3.17800000e-02,  -8.96400000e-02,\n        -1.59600000e-01,  -1.30550000e-01,  -5.17900000e-02,\n         5.98700000e-02,   1.87300000e-01,   1.87570000e-01,\n         1.64900000e-01,   2.28460000e-01,   1.66100000e-01,\n         8.15000000e-03,  -1.11300000e-02,   6.82200000e-02,\n         1.21980000e-01,   1.07920000e-01,   6.26500000e-02,\n         3.12300000e-02,  -9.40000000e-04,   5.20500000e-02,\n         1.72520000e-01,   1.69890000e-01,   9.19400000e-02,\n         2.68000000e-02,  -7.62800000e-02,  -1.02180000e-01,\n         1.72200000e-02,   1.42380000e-01,   1.92690000e-01,\n         1.42880000e-01,   4.22500000e-02,   1.30100000e-02,\n         1.94500000e-02,   3.36500000e-02,   1.41050000e-01,\n         2.14720000e-01,   1.48560000e-01,   1.21320000e-01,\n         1.31020000e-01,   4.74600000e-02,   5.13000000e-03,\n         6.89100000e-02,   1.01950000e-01,   7.62600000e-02,\n         3.44300000e-02,  -4.69000000e-03,  -5.09000000e-03,\n         2.92100000e-02,   2.84400000e-02,  -1.01900000e-02,\n         1.02300000e-02,   6.87100000e-02,   6.98000000e-02,\n         5.43600000e-02,   6.64100000e-02,   1.13800000e-01,\n         1.89760000e-01,   1.66710000e-01,   3.73100000e-02,\n        -2.10300000e-02,   1.50400000e-02,   4.36200000e-02,\n         2.50500000e-02,   3.44000000e-03,   6.52300000e-02,\n         1.53300000e-01,   1.13750000e-01,  -1.61100000e-02,\n        -1.12110000e-01,  -1.71730000e-01,  -1.75520000e-01,\n        -1.07140000e-01,  -8.29700000e-02,  -1.20430000e-01,\n        -1.30630000e-01,  -1.54900000e-01,  -1.91300000e-01,\n        -1.76090000e-01,  -1.82610000e-01,  -2.34000000e-01,\n        -2.70040000e-01,  -3.04090000e-01,  -3.27760000e-01,\n        -3.15520000e-01,  -2.44860000e-01,  -6.50800000e-02,\n         1.26970000e-01,   1.59990000e-01,   7.97900000e-02,\n         2.60300000e-02,  -1.88000000e-03,  -4.65300000e-02,\n        -8.22400000e-02,  -7.35400000e-02,  -2.74500000e-02,\n         3.31800000e-02,   1.11800000e-01,   1.55750000e-01,\n         6.58000000e-02,  -6.27200000e-02,  -5.64000000e-02,\n         3.99400000e-02,   1.22320000e-01,   1.40920000e-01,\n         6.09600000e-02,  -6.57100000e-02,  -2.09420000e-01,\n        -3.43190000e-01,  -3.81140000e-01,  -3.82050000e-01,\n        -4.01160000e-01,  -3.73900000e-01,  -3.51380000e-01,\n        -3.41590000e-01,  -2.62100000e-01,  -1.82180000e-01,\n        -1.37950000e-01,  -1.03500000e-01,  -1.59030000e-01,\n        -2.67060000e-01,  -3.07570000e-01,  -3.22440000e-01,\n        -3.40020000e-01,  -3.07220000e-01,  -2.33320000e-01,\n        -1.48180000e-01,  -1.05040000e-01,  -1.23420000e-01,\n        -8.10300000e-02,   5.44700000e-02,   1.54240000e-01,\n         1.58620000e-01,   4.71100000e-02,  -1.41420000e-01,\n        -2.33380000e-01,  -1.73120000e-01,  -6.82400000e-02,\n         2.75700000e-02,   1.12380000e-01,   1.84130000e-01,\n         2.34120000e-01,   2.33420000e-01,   1.91350000e-01,\n         1.52840000e-01,   1.14960000e-01,   4.99800000e-02,\n        -5.80000000e-04,   1.22100000e-02,   5.04300000e-02,\n         1.00260000e-01,   1.92010000e-01,   2.96920000e-01,\n         4.05770000e-01,   5.08510000e-01,   4.90960000e-01,\n         3.26410000e-01,   1.51890000e-01,   3.52700000e-02,\n        -2.43600000e-02,   2.94000000e-02,   1.52600000e-01,\n         1.87790000e-01,   1.54080000e-01,   1.96240000e-01,\n         3.19530000e-01,   4.58050000e-01,   5.72210000e-01,\n         6.01680000e-01,   5.16700000e-01,   3.85210000e-01,\n         3.42900000e-01,   4.35930000e-01,   5.30330000e-01,\n         5.26290000e-01,   4.62800000e-01]))",
     "output_type": "error",
     "traceback": [
      "\u001b[1;31m---------------------------------------------------------------------------\u001b[0m",
      "\u001b[1;31mTypeError\u001b[0m                                 Traceback (most recent call last)",
      "\u001b[1;32m<ipython-input-37-4fb15359386a>\u001b[0m in \u001b[0;36m<module>\u001b[1;34m()\u001b[0m\n\u001b[0;32m      1\u001b[0m \u001b[0mX_train\u001b[0m \u001b[1;33m=\u001b[0m \u001b[0mdata\u001b[0m\u001b[1;33m[\u001b[0m\u001b[1;36m4\u001b[0m\u001b[1;33m]\u001b[0m\u001b[1;33m[\u001b[0m\u001b[1;33m:\u001b[0m\u001b[1;33m,\u001b[0m\u001b[1;36m0\u001b[0m\u001b[1;33m]\u001b[0m\u001b[1;33m\u001b[0m\u001b[0m\n\u001b[1;32m----> 2\u001b[1;33m \u001b[0mmodel\u001b[0m\u001b[1;33m.\u001b[0m\u001b[0msgd_step\u001b[0m\u001b[1;33m(\u001b[0m\u001b[0mX_train\u001b[0m\u001b[1;33m,\u001b[0m \u001b[1;36m0.0003\u001b[0m\u001b[1;33m)\u001b[0m\u001b[1;33m\u001b[0m\u001b[0m\n\u001b[0m",
      "\u001b[1;32m/usr/local/lib/python3.4/dist-packages/theano/compile/function_module.py\u001b[0m in \u001b[0;36m__call__\u001b[1;34m(self, *args, **kwargs)\u001b[0m\n\u001b[0;32m    511\u001b[0m                     \u001b[1;32mtry\u001b[0m\u001b[1;33m:\u001b[0m\u001b[1;33m\u001b[0m\u001b[0m\n\u001b[0;32m    512\u001b[0m                         s.storage[0] = s.type.filter(arg, strict=s.strict,\n\u001b[1;32m--> 513\u001b[1;33m                                 allow_downcast=s.allow_downcast)\n\u001b[0m\u001b[0;32m    514\u001b[0m \u001b[1;33m\u001b[0m\u001b[0m\n\u001b[0;32m    515\u001b[0m                     \u001b[1;32mexcept\u001b[0m \u001b[0mException\u001b[0m \u001b[1;32mas\u001b[0m \u001b[0me\u001b[0m\u001b[1;33m:\u001b[0m\u001b[1;33m\u001b[0m\u001b[0m\n",
      "\u001b[1;32m/usr/local/lib/python3.4/dist-packages/theano/tensor/type.py\u001b[0m in \u001b[0;36mfilter\u001b[1;34m(self, data, strict, allow_downcast)\u001b[0m\n\u001b[0;32m    129\u001b[0m                             \u001b[1;34m'\"function\".'\u001b[0m\u001b[1;33m\u001b[0m\u001b[0m\n\u001b[0;32m    130\u001b[0m                             % (self, data.dtype, self.dtype))\n\u001b[1;32m--> 131\u001b[1;33m                         \u001b[1;32mraise\u001b[0m \u001b[0mTypeError\u001b[0m\u001b[1;33m(\u001b[0m\u001b[0merr_msg\u001b[0m\u001b[1;33m,\u001b[0m \u001b[0mdata\u001b[0m\u001b[1;33m)\u001b[0m\u001b[1;33m\u001b[0m\u001b[0m\n\u001b[0m\u001b[0;32m    132\u001b[0m                 elif (allow_downcast is None and\n\u001b[0;32m    133\u001b[0m                         \u001b[0mtype\u001b[0m\u001b[1;33m(\u001b[0m\u001b[0mdata\u001b[0m\u001b[1;33m)\u001b[0m \u001b[1;32mis\u001b[0m \u001b[0mfloat\u001b[0m \u001b[1;32mand\u001b[0m\u001b[1;33m\u001b[0m\u001b[0m\n",
      "\u001b[1;31mTypeError\u001b[0m: ('Bad input argument to theano function with name \"<ipython-input-34-b99ea8b14a65>:50\"  at index 0(0-based)', 'TensorType(int32, vector) cannot store a value of dtype float64 without risking loss of precision. If you do not mind this loss, you can: 1) explicitly cast your data to int32, or 2) set \"allow_input_downcast=True\" when calling \"function\".', array([  2.35350000e-01,   1.30760000e-01,   3.25700000e-02,\n        -6.73300000e-02,  -1.33060000e-01,  -1.06620000e-01,\n        -4.19400000e-02,   4.85700000e-02,   1.49830000e-01,\n         1.87030000e-01,   2.14650000e-01,   2.60230000e-01,\n         2.40090000e-01,   1.23610000e-01,  -6.83500000e-02,\n        -1.90790000e-01,  -1.23400000e-01,  -3.09000000e-03,\n        -6.83000000e-03,  -1.37810000e-01,  -1.94750000e-01,\n        -7.16300000e-02,  -2.04200000e-02,  -1.20310000e-01,\n        -1.44130000e-01,  -1.46670000e-01,  -3.06970000e-01,\n        -5.23700000e-01,  -6.37590000e-01,  -6.15220000e-01,\n        -4.68160000e-01,  -2.59980000e-01,  -1.02760000e-01,\n        -4.25600000e-02,  -5.68800000e-02,  -6.69400000e-02,\n        -4.71000000e-03,  -4.31000000e-03,  -1.38150000e-01,\n        -2.07040000e-01,  -1.59180000e-01,  -1.17540000e-01,\n        -1.36890000e-01,  -2.40880000e-01,  -3.00170000e-01,\n        -1.89930000e-01,  -8.00900000e-02,  -9.00600000e-02,\n        -1.07230000e-01,  -1.22820000e-01,  -2.16570000e-01,\n        -2.88740000e-01,  -2.56850000e-01,  -2.89970000e-01,\n        -4.67460000e-01,  -5.94270000e-01,  -5.69900000e-01,\n        -5.32720000e-01,  -5.35670000e-01,  -4.32460000e-01,\n        -2.75190000e-01,  -2.92550000e-01,  -3.92140000e-01,\n        -3.99160000e-01,  -3.65560000e-01,  -2.80060000e-01,\n        -1.60630000e-01,  -1.65830000e-01,  -3.02220000e-01,\n        -4.28740000e-01,  -4.39710000e-01,  -3.44950000e-01,\n        -2.42340000e-01,  -1.93610000e-01,  -1.79560000e-01,\n        -1.42020000e-01,  -1.09950000e-01,  -1.57970000e-01,\n        -2.35380000e-01,  -2.80380000e-01,  -2.67660000e-01,\n        -2.01000000e-01,  -2.14880000e-01,  -3.14600000e-01,\n        -3.20090000e-01,  -2.37920000e-01,  -1.55740000e-01,\n        -2.94700000e-02,   9.27200000e-02,   6.59400000e-02,\n        -8.48400000e-02,  -2.71600000e-01,  -5.03310000e-01,\n        -6.76470000e-01,  -6.58540000e-01,  -5.33100000e-01,\n        -3.68180000e-01,  -1.62500000e-01,  -2.49100000e-02,\n        -1.81500000e-02,  -9.41300000e-02,  -2.14570000e-01,\n        -3.36740000e-01,  -4.06230000e-01,  -4.29070000e-01,\n        -4.61590000e-01,  -4.99180000e-01,  -5.10380000e-01,\n        -4.88390000e-01,  -3.97050000e-01,  -2.86820000e-01,\n        -2.33000000e-01,  -1.60260000e-01,  -6.37000000e-02,\n        -2.11900000e-02,   3.19500000e-02,   1.44550000e-01,\n         2.28120000e-01,   2.17690000e-01,   1.50170000e-01,\n         8.09700000e-02,   5.33300000e-02,   1.04690000e-01,\n         1.61650000e-01,   1.44020000e-01,   1.02410000e-01,\n         6.18200000e-02,   5.42800000e-02,   1.01250000e-01,\n         6.70700000e-02,  -7.97300000e-02,  -2.22740000e-01,\n        -2.98350000e-01,  -2.39860000e-01,  -9.49400000e-02,\n         3.73000000e-03,   6.10700000e-02,   5.93500000e-02,\n        -1.82900000e-02,  -5.36900000e-02,  -4.00500000e-02,\n        -5.01000000e-02,  -4.74600000e-02,  -3.15300000e-02,\n        -2.91000000e-02,  -3.17800000e-02,  -8.96400000e-02,\n        -1.59600000e-01,  -1.30550000e-01,  -5.17900000e-02,\n         5.98700000e-02,   1.87300000e-01,   1.87570000e-01,\n         1.64900000e-01,   2.28460000e-01,   1.66100000e-01,\n         8.15000000e-03,  -1.11300000e-02,   6.82200000e-02,\n         1.21980000e-01,   1.07920000e-01,   6.26500000e-02,\n         3.12300000e-02,  -9.40000000e-04,   5.20500000e-02,\n         1.72520000e-01,   1.69890000e-01,   9.19400000e-02,\n         2.68000000e-02,  -7.62800000e-02,  -1.02180000e-01,\n         1.72200000e-02,   1.42380000e-01,   1.92690000e-01,\n         1.42880000e-01,   4.22500000e-02,   1.30100000e-02,\n         1.94500000e-02,   3.36500000e-02,   1.41050000e-01,\n         2.14720000e-01,   1.48560000e-01,   1.21320000e-01,\n         1.31020000e-01,   4.74600000e-02,   5.13000000e-03,\n         6.89100000e-02,   1.01950000e-01,   7.62600000e-02,\n         3.44300000e-02,  -4.69000000e-03,  -5.09000000e-03,\n         2.92100000e-02,   2.84400000e-02,  -1.01900000e-02,\n         1.02300000e-02,   6.87100000e-02,   6.98000000e-02,\n         5.43600000e-02,   6.64100000e-02,   1.13800000e-01,\n         1.89760000e-01,   1.66710000e-01,   3.73100000e-02,\n        -2.10300000e-02,   1.50400000e-02,   4.36200000e-02,\n         2.50500000e-02,   3.44000000e-03,   6.52300000e-02,\n         1.53300000e-01,   1.13750000e-01,  -1.61100000e-02,\n        -1.12110000e-01,  -1.71730000e-01,  -1.75520000e-01,\n        -1.07140000e-01,  -8.29700000e-02,  -1.20430000e-01,\n        -1.30630000e-01,  -1.54900000e-01,  -1.91300000e-01,\n        -1.76090000e-01,  -1.82610000e-01,  -2.34000000e-01,\n        -2.70040000e-01,  -3.04090000e-01,  -3.27760000e-01,\n        -3.15520000e-01,  -2.44860000e-01,  -6.50800000e-02,\n         1.26970000e-01,   1.59990000e-01,   7.97900000e-02,\n         2.60300000e-02,  -1.88000000e-03,  -4.65300000e-02,\n        -8.22400000e-02,  -7.35400000e-02,  -2.74500000e-02,\n         3.31800000e-02,   1.11800000e-01,   1.55750000e-01,\n         6.58000000e-02,  -6.27200000e-02,  -5.64000000e-02,\n         3.99400000e-02,   1.22320000e-01,   1.40920000e-01,\n         6.09600000e-02,  -6.57100000e-02,  -2.09420000e-01,\n        -3.43190000e-01,  -3.81140000e-01,  -3.82050000e-01,\n        -4.01160000e-01,  -3.73900000e-01,  -3.51380000e-01,\n        -3.41590000e-01,  -2.62100000e-01,  -1.82180000e-01,\n        -1.37950000e-01,  -1.03500000e-01,  -1.59030000e-01,\n        -2.67060000e-01,  -3.07570000e-01,  -3.22440000e-01,\n        -3.40020000e-01,  -3.07220000e-01,  -2.33320000e-01,\n        -1.48180000e-01,  -1.05040000e-01,  -1.23420000e-01,\n        -8.10300000e-02,   5.44700000e-02,   1.54240000e-01,\n         1.58620000e-01,   4.71100000e-02,  -1.41420000e-01,\n        -2.33380000e-01,  -1.73120000e-01,  -6.82400000e-02,\n         2.75700000e-02,   1.12380000e-01,   1.84130000e-01,\n         2.34120000e-01,   2.33420000e-01,   1.91350000e-01,\n         1.52840000e-01,   1.14960000e-01,   4.99800000e-02,\n        -5.80000000e-04,   1.22100000e-02,   5.04300000e-02,\n         1.00260000e-01,   1.92010000e-01,   2.96920000e-01,\n         4.05770000e-01,   5.08510000e-01,   4.90960000e-01,\n         3.26410000e-01,   1.51890000e-01,   3.52700000e-02,\n        -2.43600000e-02,   2.94000000e-02,   1.52600000e-01,\n         1.87790000e-01,   1.54080000e-01,   1.96240000e-01,\n         3.19530000e-01,   4.58050000e-01,   5.72210000e-01,\n         6.01680000e-01,   5.16700000e-01,   3.85210000e-01,\n         3.42900000e-01,   4.35930000e-01,   5.30330000e-01,\n         5.26290000e-01,   4.62800000e-01]))"
     ]
    }
   ],
   "source": [
    "X_train = data[4][:,0]\n",
    "model.sgd_step(X_train, 0.0003)"
   ]
  },
  {
   "cell_type": "code",
   "execution_count": null,
   "metadata": {
    "collapsed": true
   },
   "outputs": [],
   "source": []
  }
 ],
 "metadata": {
  "kernelspec": {
   "display_name": "Python 3",
   "language": "python",
   "name": "python3"
  },
  "language_info": {
   "codemirror_mode": {
    "name": "ipython",
    "version": 3
   },
   "file_extension": ".py",
   "mimetype": "text/x-python",
   "name": "python",
   "nbconvert_exporter": "python",
   "pygments_lexer": "ipython3",
   "version": "3.5.1"
  }
 },
 "nbformat": 4,
 "nbformat_minor": 0
}
