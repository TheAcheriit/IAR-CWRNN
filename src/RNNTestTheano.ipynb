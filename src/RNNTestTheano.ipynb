{
 "cells": [
  {
   "cell_type": "code",
   "execution_count": 4,
   "metadata": {
    "collapsed": false
   },
   "outputs": [
    {
     "name": "stdout",
     "output_type": "stream",
     "text": [
      "Populating the interactive namespace from numpy and matplotlib\n"
     ]
    }
   ],
   "source": [
    "%pylab inline\n",
    "import theano as theano\n",
    "import theano.tensor as T\n",
    "import operator\n",
    "import os, csv"
   ]
  },
  {
   "cell_type": "code",
   "execution_count": 5,
   "metadata": {
    "collapsed": false
   },
   "outputs": [
    {
     "data": {
      "text/plain": [
       "[<matplotlib.lines.Line2D at 0x7f94818932e8>]"
      ]
     },
     "execution_count": 5,
     "metadata": {},
     "output_type": "execute_result"
    },
    {
     "data": {
      "image/png": "[encoded data removed]",
      "text/plain": [
       "<matplotlib.figure.Figure at 0x7f94818e58d0>"
      ]
     },
     "metadata": {},
     "output_type": "display_data"
    }
   ],
   "source": [
    "data_to_charge = 0 # 0 is for the music samples, 1 is for TIMIT\n",
    "if data_to_charge not in (0, 1):\n",
    "    raise ValueError(\"data_to_charge must be 0 (music) or 1 (speech)\")\n",
    "elif data_to_charge == 0:\n",
    "    data_folder = \"../sample/\"\n",
    "else:\n",
    "    data_folder = \"../timit\"\n",
    "\n",
    "files_names = (os.listdir(data_folder))\n",
    "folder_size = len(files_names)\n",
    "sample_lenght = 0\n",
    "\n",
    "cr = csv.reader(open(data_folder + files_names[0], \"r\"))\n",
    "for row in cr:\n",
    "    sample_lenght += 1\n",
    "\n",
    "data = np.zeros((folder_size, sample_lenght, 2))\n",
    "    \n",
    "for file_number, file in enumerate(files_names):\n",
    "    cr = csv.reader(open(data_folder + file, \"r\"))\n",
    "    for row_number, row in enumerate(cr):\n",
    "        data[file_number][row_number] = [float(row[0]), float(row[1])]\n",
    "        \n",
    "plot(data[4][:,0])"
   ]
  },
  {
   "cell_type": "code",
   "execution_count": 17,
   "metadata": {
    "collapsed": false
   },
   "outputs": [],
   "source": [
    "class RNNTheano:\n",
    "    \n",
    "    def __init__(self, word_dim=1, hidden_dim=9, bptt_truncate=4):\n",
    "        # Assign instance variables\n",
    "        self.word_dim = word_dim\n",
    "        self.hidden_dim = hidden_dim\n",
    "        self.bptt_truncate = bptt_truncate\n",
    "        # Randomly initialize the network parameters\n",
    "        V = np.random.normal(0,0.1, (word_dim, hidden_dim))\n",
    "        W = np.random.normal(0,0.1, (hidden_dim, hidden_dim))\n",
    "        #b1 = np.random.normal(0,0.1, (hidden_dim))\n",
    "        # Theano: Created shared variables\n",
    "        self.V = theano.shared(name='V', value=V.astype(theano.config.floatX))\n",
    "        self.W = theano.shared(name='W', value=W.astype(theano.config.floatX))      \n",
    "        #self.b1 = theano.shared(name='b1', value=b1.astype(theano.config.floatX))      \n",
    "        # We store the Theano graph here\n",
    "        self.theano = {}\n",
    "        self.__theano_build__()\n",
    "    \n",
    "    def __theano_build__(self):\n",
    "        V, W= self.V, self.W\n",
    "        #b1 = self.b1\n",
    "        x = T.vector('x')\n",
    "        def forward_prop_step(x_t, s_t_prev, V, W):\n",
    "            s_t = T.tanh(W.dot(s_t_prev))\n",
    "            o_t = V.dot(s_t)\n",
    "            print(o_t)\n",
    "            return [o_t[0], s_t]\n",
    "        [o,s], updates = theano.scan(\n",
    "            forward_prop_step,\n",
    "            sequences=x,\n",
    "            outputs_info=[None, dict(initial=T.ones(self.hidden_dim)*x[0])],\n",
    "            non_sequences=[V, W],\n",
    "            truncate_gradient=self.bptt_truncate,\n",
    "            strict=True)\n",
    "        \n",
    "        prediction = o\n",
    "        o_error = T.mean((x - o) ** 2)\n",
    "        \n",
    "        # Gradients\n",
    "        dV = T.grad(o_error, V)\n",
    "        dW = T.grad(o_error, W)\n",
    "        #db1 = T.grad(o_error, b1)\n",
    "\n",
    "        \n",
    "        # Assign functions\n",
    "        self.forward_propagation = theano.function([x], o)\n",
    "        self.predict = theano.function([x], prediction)\n",
    "        self.ce_error = theano.function([x], o_error)\n",
    "        self.bptt = theano.function([x], [dV, dW])\n",
    "        \n",
    "        # SGD\n",
    "        learning_rate = T.scalar('learning_rate')\n",
    "        self.sgd_step = theano.function([x,learning_rate], \n",
    "                      updates=[(self.V, self.V - learning_rate * dV),\n",
    "                              (self.W, self.W - learning_rate * dW)])\n",
    "    \n",
    "    def calculate_loss(self, x):\n",
    "        return self.ce_error(x)"
   ]
  },
  {
   "cell_type": "code",
   "execution_count": 23,
   "metadata": {
    "collapsed": false
   },
   "outputs": [],
   "source": [
    "def train_with_sgd(model, x, learning_rate=0.005, nepoch=100, momentum=0.95):\n",
    "    # We keep track of the losses so we can plot them later\n",
    "    losses = []\n",
    "    for epoch in range(nepoch):\n",
    "        loss = model.calculate_loss(x)\n",
    "        losses.append(loss)\n",
    "        # One SGD step\n",
    "        model.sgd_step(x, learning_rate)\n",
    "    return losses\n"
   ]
  },
  {
   "cell_type": "code",
   "execution_count": 19,
   "metadata": {
    "collapsed": false
   },
   "outputs": [
    {
     "name": "stdout",
     "output_type": "stream",
     "text": [
      "dot.0\n"
     ]
    },
    {
     "name": "stderr",
     "output_type": "stream",
     "text": [
      "/usr/local/lib/python3.4/dist-packages/theano/scan_module/scan.py:1017: Warning: In the strict mode, all neccessary shared variables must be passed as a part of non_sequences\n",
      "  'must be passed as a part of non_sequences', Warning)\n"
     ]
    }
   ],
   "source": [
    "model = RNNTheano()"
   ]
  },
  {
   "cell_type": "code",
   "execution_count": null,
   "metadata": {
    "collapsed": false
   },
   "outputs": [],
   "source": []
  },
  {
   "cell_type": "code",
   "execution_count": 24,
   "metadata": {
    "collapsed": false
   },
   "outputs": [],
   "source": [
    "X_train = data[4][:,0]\n",
    "X_train = np.ones(320)\n",
    "losses = train_with_sgd(model, X_train, nepoch=2000)"
   ]
  },
  {
   "cell_type": "code",
   "execution_count": 25,
   "metadata": {
    "collapsed": false
   },
   "outputs": [
    {
     "data": {
      "text/plain": [
       "[<matplotlib.lines.Line2D at 0x7f946f62c908>]"
      ]
     },
     "execution_count": 25,
     "metadata": {},
     "output_type": "execute_result"
    },
    {
     "data": {
      "image/png": "[encoded data removed]",
      "text/plain": [
       "<matplotlib.figure.Figure at 0x7f946b84aef0>"
      ]
     },
     "metadata": {},
     "output_type": "display_data"
    }
   ],
   "source": [
    "o = model.predict(X_train)\n",
    "plot(o)\n",
    "plot(X_train)"
   ]
  },
  {
   "cell_type": "code",
   "execution_count": 26,
   "metadata": {
    "collapsed": false
   },
   "outputs": [
    {
     "data": {
      "text/plain": [
       "[<matplotlib.lines.Line2D at 0x7f9480c322e8>]"
      ]
     },
     "execution_count": 26,
     "metadata": {},
     "output_type": "execute_result"
    },
    {
     "data": {
      "image/png": "[encoded data removed]",
      "text/plain": [
       "<matplotlib.figure.Figure at 0x7f946f63e860>"
      ]
     },
     "metadata": {},
     "output_type": "display_data"
    }
   ],
   "source": [
    "plot(losses)"
   ]
  },
  {
   "cell_type": "code",
   "execution_count": 18,
   "metadata": {
    "collapsed": false
   },
   "outputs": [
    {
     "data": {
      "text/plain": [
       "Subtensor{::}.0"
      ]
     },
     "execution_count": 18,
     "metadata": {},
     "output_type": "execute_result"
    }
   ],
   "source": [
    "model.b1[:]"
   ]
  },
  {
   "cell_type": "code",
   "execution_count": null,
   "metadata": {
    "collapsed": true
   },
   "outputs": [],
   "source": []
  }
 ],
 "metadata": {
  "kernelspec": {
   "display_name": "Python 3",
   "language": "python",
   "name": "python3"
  },
  "language_info": {
   "codemirror_mode": {
    "name": "ipython",
    "version": 3
   },
   "file_extension": ".py",
   "mimetype": "text/x-python",
   "name": "python",
   "nbconvert_exporter": "python",
   "pygments_lexer": "ipython3",
   "version": "3.4.3"
  }
 },
 "nbformat": 4,
 "nbformat_minor": 0
}
